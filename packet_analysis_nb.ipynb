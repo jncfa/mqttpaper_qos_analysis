{
 "cells": [
  {
   "cell_type": "code",
   "execution_count": 1,
   "metadata": {},
   "outputs": [],
   "source": [
    "#!/usr/bin/env python3\n",
    "# -*- coding: utf-8 -*-\n",
    "\n",
    "'''MQTT Packet analysis script developed for the experiments ran in ISR.\n",
    "\n",
    "This script automatically performs the RTT and Packet Loss analysis of the packets given the folder containing\n",
    "all Wireshark capture files ('.pcap'). \n",
    "\n",
    "It uses pyshark (Python wrapper for the tshark tool) to analyze the packets.\n",
    "\n",
    "Setting up:\n",
    "    Use the supplied Dockerfile to setup a development environment, or manually install all dependencies.\n",
    "    Make sure to mount the folder with the logs in /logs.\n",
    "\n",
    "Example:\n",
    "    Run the analysis using the following command::\n",
    "        $ python3 packet_analysis.py\n",
    "'''\n",
    "\n",
    "import pyshark\n",
    "import pandas as pd\n",
    "from collections import deque\n",
    "\n",
    "# fix nested loop shenanigans with Jupyter\n",
    "import nest_asyncio\n",
    "nest_asyncio.apply()"
   ]
  },
  {
   "cell_type": "code",
   "execution_count": 62,
   "metadata": {},
   "outputs": [],
   "source": [
    "# Define all experiment variables\n",
    "client_list =  ['10.231.219.206', '10.231.219.81', '10.231.219.73', '10.231.219.185']\n",
    "host_ip = '10.231.201.175'\n",
    "\n",
    "frequency_list =  [1, 10, 100]\n",
    "#packet_sizes =  ['small', 'medium', 'large']\n",
    "qos_levels = [0, 1, 2]\n",
    "\n",
    "packet_sizes =  ['small',]\n",
    "\n",
    "# Mapping to get real packet size\n",
    "packet_sizes_bytes = {'small': 1250, 'medium': 12500, 'large': 125000}\n",
    "\n",
    "# Headers to be used in pandas.DataFrame\n",
    "FREQUENCY_HEADER = 'FREQUENCY'\n",
    "PACKET_SIZE_HEADER = 'PACKET_SIZE'\n",
    "NUM_CLIENTS_HEADER = 'NUM_CLIENTS'\n",
    "QOS_LEVEL_HEADER = 'QOS_LEVEL'\n",
    "\n",
    "RTT_HEADER = 'RTT'\n",
    "RTT_MEAN_HEADER = 'RTT_MEAN' \n",
    "RTT_STD_HEADER = 'RTT_STD'\n",
    "PACKET_LOSS_HEADER = 'PACKET_LOSS'\n",
    "\n",
    "# Headers to be used in packet_raw_info\n",
    "TCP_SEGMENTS_HEADER = \"tcp.segments\" # segments that composed the packet\n",
    "TCP_FIRST_SEGMENT_HEADER = TCP_SEGMENTS_HEADER # first segment that composed the packet \n",
    "TCP_FIRST_SEGMENT_TIMESTAMP_HEADER = \"tcp.segments.timestamp\" # first segment that composed the packet \n",
    "\n",
    "MQTT_MSGID_HEADER = \"mqtt.msgid\" # id of the MQTT message, used to follow up on QoS on MQTT level\n",
    "MQTT_MSGLEN_HEADER = \"mqtt.msglen\" # full length of the packet (payload + overhead)\n",
    "FRAME_NUMBER_HEADER = \"frame.number\" # number of the frame\n",
    "FRAME_TIMESTAMP_HEADER = \"frame.time\" # timestamp of the recorded packet\n",
    "IP_ADDR_HEADER = \"ip.addr\"\n",
    "\n",
    "MQTT_PACKET_ACKED_HEADER = \"MQTT_PACKET_ACKED\" # indicates if the packed was acked or not\n",
    "MQTT_PACKET_ACK_TIMESTAMP_HEADER = \"MQTT_PACKET_ACK_TIMESTAMP\" # timestamp of packet ack (PUBACK for QoS1, PUBCOMP for QoS2)\n",
    "\n",
    "# Useful functions\n",
    "# Packet file name format\n",
    "filename_fmt = '/logs/f{}c{}qos{}{}.pcap'\n",
    "getLogFilename = lambda frequency, number_of_clients, qos_level, packet_size : filename_fmt.format(frequency, number_of_clients, qos_level, packet_size)\n",
    "\n",
    "# Get Client IP from ip.addr info\n",
    "getClientIP = lambda addr: addr[0] if addr[0] != host_ip else addr[1] \n",
    "\n",
    "# Create FileCapture from capture file and display filter \n",
    "createFileCapture = lambda capture_filename, display_filter: pyshark.FileCapture(capture_filename, use_json=True, keep_packets=False, display_filter=display_filter, debug=True)\n"
   ]
  },
  {
   "cell_type": "code",
   "execution_count": 30,
   "metadata": {},
   "outputs": [],
   "source": [
    "# Wireshark display filters\n",
    "TSHARK_DF_AND = \"&&\"\n",
    "TSHARK_DF_OR = \"||\"\n",
    "\n",
    "# Template filter for different IPs\n",
    "TSHARK_DF_IPFILTER_fmt = \"ip.addr == {}\"\n",
    "TSHARK_DF_IPFILTER = lambda ip :  TSHARK_DF_IPFILTER_fmt.format(ip)\n",
    "\n",
    "# Filters for different MQTT packets\n",
    "MQTT_PUBLISH_MSGTYPE = 3\n",
    "MQTT_PUBACK_MSGTYPE = 5\n",
    "MQTT_PUBCOMP_MSGTYPE = 7\n",
    "\n",
    "TSHARK_DF_MQTTPUBLISH = f\"mqtt.msgtype == {MQTT_PUBLISH_MSGTYPE}\"\n",
    "TSHARK_DF_MQTTPUBACK = f\"mqtt.msgtype == {MQTT_PUBACK_MSGTYPE}\"\n",
    "TSHARK_DF_MQTTPUBCOMP = f\"mqtt.msgtype == {MQTT_PUBCOMP_MSGTYPE}\"\n",
    "\n",
    "# filters the 1883 port so we only get MQTT packets\n",
    "TSHARK_DF_MQTT_TCPFILTER = \"tcp.port == 1883\"\n",
    "TSHARK_DF_MQTT_IGNORE_PINGS= \"!(mqtt.msgtype == 12)\"\n",
    "\n",
    "# Filter for ACK packets and their corresponding ACK'd frame\n",
    "TSHARK_DF_ACKS_FRAME_fmt = \"tcp.analysis.acks_frame >= {}\"\n",
    "TSHARK_DF_ACKS_FRAME = lambda number :  TSHARK_DF_ACKS_FRAME_fmt.format(number)\n",
    "\n",
    "# pyshark doesn't provide any easy way to access the data, so we need to do this to get it\n",
    "TSHARK_DF_START_ON_FRAME_fmt = \"frame.number > {}\"\n",
    "TSHARK_DF_START_ON_FRAME = lambda number :  TSHARK_DF_START_ON_FRAME_fmt.format(number)\n",
    "TSHARK_DF_GET_FRAME_fmt = \"frame.number == {}\"\n",
    "TSHARK_DF_GET_FRAME = lambda number :  TSHARK_DF_GET_FRAME_fmt.format(number)"
   ]
  },
  {
   "cell_type": "code",
   "execution_count": 55,
   "metadata": {},
   "outputs": [],
   "source": [
    "# Log files are processed in two-passes:\n",
    "# - First pass scans for MQTT packets and gets their info (segment numbers for MQTT PUBLISH, etc)\n",
    "# - Second pass processes the underlying TCP fragments and ACKs and updates the previous info with timestamps when needed\n",
    "\n",
    "def process_packet(frequency, number_of_clients, qos_level, packet_size):\n",
    "    capture_filename = getLogFilename(frequency, number_of_clients, qos_level, packet_size)\n",
    "    packet_info = []\n",
    "    \n",
    "    print(\"Parsing all MQTT packets...\")\n",
    "\n",
    "    # split capture according to QoS level\n",
    "    if (qos_level == 0):\n",
    "        # dict of all MQTT publish packets: map from {frame.number -> packet_data}\n",
    "        mqttpub_packet_list = {}\n",
    "\n",
    "        # needs json to capture segment data\n",
    "        mqtt_capture = createFileCapture(capture_filename, TSHARK_DF_MQTTPUBLISH + TSHARK_DF_AND + TSHARK_DF_MQTT_IGNORE_PINGS)\n",
    "        for packet in mqtt_capture:\n",
    "            # get packet data\n",
    "            packet_data = {\n",
    "                IP_ADDR_HEADER: packet.ip.addr,\n",
    "                FRAME_TIMESTAMP_HEADER: float(packet.frame_info.time_epoch),\n",
    "                FRAME_NUMBER_HEADER: int(packet.frame_info.number),\n",
    "                TCP_FIRST_SEGMENT_HEADER: int(packet[TCP_SEGMENTS_HEADER].segment[0] if packet.__contains__(TCP_SEGMENTS_HEADER) else packet.frame_info.number),\n",
    "                MQTT_MSGLEN_HEADER: int(packet.mqtt.len),\n",
    "                TCP_FIRST_SEGMENT_TIMESTAMP_HEADER: float(packet.frame_info.time_epoch) if not packet.__contains__(TCP_SEGMENTS_HEADER) else None\n",
    "            }\n",
    "            mqttpub_packet_list[packet_data[TCP_FIRST_SEGMENT_HEADER]] = packet_data \n",
    "\n",
    "        # close subprocess\n",
    "        mqtt_capture.close()\n",
    "\n",
    "        # create a queue so we can ACK the packets in order (this assumes that the ACKs are not out of order)\n",
    "        # queues are created per client to validate the ACKs properly\n",
    "        mqttpub_packet_deque = {client: deque(sorted(filter(lambda packet: client == getClientIP(packet[IP_ADDR_HEADER]), mqttpub_packet_list.values()), \n",
    "            key=(lambda packet: -packet[FRAME_NUMBER_HEADER]))) for client in client_list}\n",
    "\n",
    "        # grab last packet of each client\n",
    "        last_packet_to_ack = {client: mqttpub_packet_deque[client].pop() for client in client_list if len(mqttpub_packet_deque[client]) > 0}\n",
    "\n",
    "        tcp_capture = createFileCapture(capture_filename, TSHARK_DF_MQTT_TCPFILTER)\n",
    "        for packet in tcp_capture:\n",
    "            # check if it's an ACK packet\n",
    "            if packet.ip.dst == host_ip: \n",
    "                if packet.tcp.has_field(\"analysis\") and packet.tcp.analysis.has_field(\"acks_frame\"):\n",
    "                    if (last_packet_to_ack.get(packet.ip.src) is not None):\n",
    "                        # check if it ACKs the client's last PUBLISH\n",
    "                        if (packet.tcp.analysis.acks_frame.main_field.int_value >= last_packet_to_ack.get(packet.ip.src)[FRAME_NUMBER_HEADER]):\n",
    "                            # add packet to the list\n",
    "                            packet_info.append({\n",
    "                                FREQUENCY_HEADER: frequency,\n",
    "                                MQTT_MSGLEN_HEADER: packet_data[MQTT_MSGLEN_HEADER],\n",
    "                                PACKET_SIZE_HEADER: packet_sizes_bytes[packet_size],\n",
    "                                NUM_CLIENTS_HEADER: number_of_clients,\n",
    "                                QOS_LEVEL_HEADER: qos_level,\n",
    "                                RTT_HEADER: (float(packet.frame_info.time_epoch) - mqttpub_packet_list[last_packet_to_ack.get(packet.ip.src)[TCP_FIRST_SEGMENT_HEADER]][TCP_FIRST_SEGMENT_TIMESTAMP_HEADER])\n",
    "                            })\n",
    "                            # update last packet ACK'd\n",
    "                            last_packet_to_ack[packet.ip.src] = mqttpub_packet_deque[packet.ip.src].pop() if len(mqttpub_packet_deque[packet.ip.src]) > 0 else None\n",
    "            else:\n",
    "                # check if the current packet is one of the first segments, if not then skip\n",
    "                if mqttpub_packet_list.get(int(packet.frame_info.number)) is not None:\n",
    "                    mqttpub_packet_list[int(packet.frame_info.number)][TCP_FIRST_SEGMENT_TIMESTAMP_HEADER] = float(packet.frame_info.time_epoch)\n",
    "    else:\n",
    "        # dict of all MQTT publish packets: map from {packet.ip.addr -> packet_data}\n",
    "        mqttpub_packet_list = {}\n",
    "\n",
    "        # needs json to capture segment data\n",
    "        mqtt_capture = createFileCapture(capture_filename, \n",
    "            display_filter = ((TSHARK_DF_MQTTPUBLISH + TSHARK_DF_OR + TSHARK_DF_MQTTPUBACK) if (qos_level == 1) else \n",
    "            (TSHARK_DF_MQTTPUBLISH + TSHARK_DF_OR + TSHARK_DF_MQTTPUBACK)))\n",
    "        \n",
    "        for packet in mqtt_capture:\n",
    "            # check if it's a MQTT PUBLISH \n",
    "            if (int(packet.mqtt.hdrflags_tree.msgtype) == MQTT_PUBLISH_MSGTYPE): \n",
    "                packet_data = {\n",
    "                    IP_ADDR_HEADER: packet.ip.addr,\n",
    "                    FRAME_TIMESTAMP_HEADER: float(packet.frame_info.time_epoch),\n",
    "                    FRAME_NUMBER_HEADER: int(packet.frame_info.number),\n",
    "                    TCP_FIRST_SEGMENT_HEADER: int(packet[TCP_SEGMENTS_HEADER].segment[0] if packet.__contains__(TCP_SEGMENTS_HEADER) else packet.frame_info.number),\n",
    "                    MQTT_MSGLEN_HEADER: int(packet.mqtt.len),\n",
    "                    TCP_FIRST_SEGMENT_TIMESTAMP_HEADER: float(packet.frame_info.time_epoch) if not packet.__contains__(TCP_SEGMENTS_HEADER) else None,\n",
    "                    MQTT_PACKET_ACK_TIMESTAMP_HEADER: None,\n",
    "                    MQTT_PACKET_ACKED_HEADER: False,\n",
    "                }\n",
    "                mqttpub_packet_list[(frozenset(packet.ip.addr), packet.mqtt.msgid)] = packet_data\n",
    "\n",
    "            else: # then it's a PUBACK / PUBCOMP\n",
    "                # get saved packet\n",
    "                mqtt_packet = mqttpub_packet_list.get((frozenset(packet.ip.addr), packet.mqtt.msgid))\n",
    "                if mqtt_packet is not None:\n",
    "                    mqttpub_packet_list[(frozenset(packet.ip.addr), packet.mqtt.msgid)][MQTT_PACKET_ACK_TIMESTAMP_HEADER] = float(packet.frame_info.time_epoch)\n",
    "                    mqttpub_packet_list[(frozenset(packet.ip.addr), packet.mqtt.msgid)][MQTT_PACKET_ACKED_HEADER] = True    \n",
    "        \n",
    "        # reshape dict to be indexed by first segment frame number\n",
    "        mqttpub_packet_list = {packet[TCP_FIRST_SEGMENT_HEADER]: packet for packet in mqttpub_packet_list.values()}\n",
    "        \n",
    "        # close subprocess\n",
    "        mqtt_capture.close()\n",
    "\n",
    "        # create a queue so we can ACK the packets in order (this assumes that the ACKs are not out of order)\n",
    "        # queues are created per client to validate the ACKs properly\n",
    "        mqttpub_packet_deque = {client: deque(sorted(filter(lambda packet: client == getClientIP(packet[IP_ADDR_HEADER]), mqttpub_packet_list.values()), \n",
    "            key=(lambda packet: -packet[FRAME_NUMBER_HEADER]))) for client in client_list}\n",
    "\n",
    "        # grab last packet of each client\n",
    "        last_packet_to_ack = {client: mqttpub_packet_deque[client].pop() for client in client_list if len(mqttpub_packet_deque[client]) > 0}\n",
    "\n",
    "        tcp_capture = createFileCapture(capture_filename, TSHARK_DF_MQTT_TCPFILTER)\n",
    "        for packet in tcp_capture:\n",
    "            # check if it's an ACK packet\n",
    "            if packet.ip.dst == host_ip: \n",
    "                if packet.tcp.has_field(\"analysis\") and packet.tcp.analysis.has_field(\"acks_frame\"):\n",
    "                    if (last_packet_to_ack.get(packet.ip.src) is not None):\n",
    "                        # check if it ACKs the client's last PUBLISH\n",
    "                        if (packet.tcp.analysis.acks_frame.main_field.int_value >= last_packet_to_ack.get(packet.ip.src)[FRAME_NUMBER_HEADER]):\n",
    "                            # add packet to the list\n",
    "                            packet_info.append({\n",
    "                                FREQUENCY_HEADER: frequency,\n",
    "                                MQTT_MSGLEN_HEADER: packet_data[MQTT_MSGLEN_HEADER],\n",
    "                                PACKET_SIZE_HEADER: packet_sizes_bytes[packet_size],\n",
    "                                NUM_CLIENTS_HEADER: number_of_clients,\n",
    "                                QOS_LEVEL_HEADER: qos_level,\n",
    "                                RTT_HEADER: (float(packet.frame_info.time_epoch) - mqttpub_packet_list[last_packet_to_ack.get(packet.ip.src)[TCP_FIRST_SEGMENT_HEADER]][TCP_FIRST_SEGMENT_TIMESTAMP_HEADER])\n",
    "                            })\n",
    "                            # update last packet ACK'd\n",
    "                            last_packet_to_ack[packet.ip.src] = mqttpub_packet_deque[packet.ip.src].pop() if len(mqttpub_packet_deque[packet.ip.src]) > 0 else None\n",
    "            else:\n",
    "                # check if the current packet is one of the first segments, if not then skip\n",
    "                if mqttpub_packet_list.get(int(packet.frame_info.number)) is not None:\n",
    "                    mqttpub_packet_list[int(packet.frame_info.number)][TCP_FIRST_SEGMENT_TIMESTAMP_HEADER] = float(packet.frame_info.time_epoch)\n",
    "    \n",
    "    print(\"Processed all packets!\")\n",
    "    return packet_info"
   ]
  },
  {
   "cell_type": "code",
   "execution_count": 63,
   "metadata": {},
   "outputs": [
    {
     "name": "stdout",
     "output_type": "stream",
     "text": [
      "Parsing all MQTT packets...\n",
      "2022-06-06 07:43:30,676 - FileCapture - DEBUG - Creating TShark subprocess with parameters: /usr/bin/tshark -l -n -T json -Y mqtt.msgtype == 3&&!(mqtt.msgtype == 12) -r /logs/f1c1qos0small.pcap --no-duplicate-keys\n",
      "2022-06-06 07:43:30,677 - FileCapture - DEBUG - Executable: /usr/bin/tshark\n",
      "2022-06-06 07:43:30,681 - FileCapture - DEBUG - TShark subprocess created\n"
     ]
    },
    {
     "name": "stderr",
     "output_type": "stream",
     "text": [
      "Running as user \"root\" and group \"root\". This could be dangerous.\n"
     ]
    },
    {
     "name": "stdout",
     "output_type": "stream",
     "text": [
      "2022-06-06 07:43:31,185 - FileCapture - DEBUG - EOF reached (sync)\n",
      "2022-06-06 07:43:31,293 - FileCapture - DEBUG - Creating TShark subprocess with parameters: /usr/bin/tshark -l -n -T json -Y tcp.port == 1883 -r /logs/f1c1qos0small.pcap --no-duplicate-keys\n",
      "2022-06-06 07:43:31,294 - FileCapture - DEBUG - Executable: /usr/bin/tshark\n",
      "2022-06-06 07:43:31,298 - FileCapture - DEBUG - TShark subprocess created\n"
     ]
    },
    {
     "name": "stderr",
     "output_type": "stream",
     "text": [
      "Running as user \"root\" and group \"root\". This could be dangerous.\n"
     ]
    },
    {
     "name": "stdout",
     "output_type": "stream",
     "text": [
      "2022-06-06 07:43:31,879 - FileCapture - DEBUG - EOF reached (sync)\n",
      "Processed all packets!\n",
      "Parsing all MQTT packets...\n",
      "2022-06-06 07:43:31,991 - FileCapture - DEBUG - Creating TShark subprocess with parameters: /usr/bin/tshark -l -n -T json -Y mqtt.msgtype == 3||mqtt.msgtype == 5 -r /logs/f1c1qos1small.pcap --no-duplicate-keys\n",
      "2022-06-06 07:43:31,991 - FileCapture - DEBUG - Executable: /usr/bin/tshark\n",
      "2022-06-06 07:43:31,995 - FileCapture - DEBUG - TShark subprocess created\n"
     ]
    },
    {
     "name": "stderr",
     "output_type": "stream",
     "text": [
      "Running as user \"root\" and group \"root\". This could be dangerous.\n"
     ]
    },
    {
     "name": "stdout",
     "output_type": "stream",
     "text": [
      "2022-06-06 07:43:32,565 - FileCapture - DEBUG - EOF reached (sync)\n",
      "2022-06-06 07:43:32,674 - FileCapture - DEBUG - Creating TShark subprocess with parameters: /usr/bin/tshark -l -n -T json -Y tcp.port == 1883 -r /logs/f1c1qos1small.pcap --no-duplicate-keys\n",
      "2022-06-06 07:43:32,674 - FileCapture - DEBUG - Executable: /usr/bin/tshark\n",
      "2022-06-06 07:43:32,678 - FileCapture - DEBUG - TShark subprocess created\n"
     ]
    },
    {
     "name": "stderr",
     "output_type": "stream",
     "text": [
      "Running as user \"root\" and group \"root\". This could be dangerous.\n"
     ]
    },
    {
     "name": "stdout",
     "output_type": "stream",
     "text": [
      "2022-06-06 07:43:33,406 - FileCapture - DEBUG - EOF reached (sync)\n",
      "Processed all packets!\n",
      "Parsing all MQTT packets...\n",
      "2022-06-06 07:43:33,517 - FileCapture - DEBUG - Creating TShark subprocess with parameters: /usr/bin/tshark -l -n -T json -Y mqtt.msgtype == 3||mqtt.msgtype == 5 -r /logs/f1c1qos2small.pcap --no-duplicate-keys\n",
      "2022-06-06 07:43:33,518 - FileCapture - DEBUG - Executable: /usr/bin/tshark\n",
      "2022-06-06 07:43:33,522 - FileCapture - DEBUG - TShark subprocess created\n"
     ]
    },
    {
     "name": "stderr",
     "output_type": "stream",
     "text": [
      "Running as user \"root\" and group \"root\". This could be dangerous.\n"
     ]
    },
    {
     "name": "stdout",
     "output_type": "stream",
     "text": [
      "2022-06-06 07:43:34,162 - FileCapture - DEBUG - EOF reached (sync)\n",
      "2022-06-06 07:43:34,276 - FileCapture - DEBUG - Creating TShark subprocess with parameters: /usr/bin/tshark -l -n -T json -Y tcp.port == 1883 -r /logs/f1c1qos2small.pcap --no-duplicate-keys\n",
      "2022-06-06 07:43:34,277 - FileCapture - DEBUG - Executable: /usr/bin/tshark\n",
      "2022-06-06 07:43:34,281 - FileCapture - DEBUG - TShark subprocess created\n"
     ]
    },
    {
     "name": "stderr",
     "output_type": "stream",
     "text": [
      "Running as user \"root\" and group \"root\". This could be dangerous.\n"
     ]
    },
    {
     "name": "stdout",
     "output_type": "stream",
     "text": [
      "2022-06-06 07:43:35,232 - FileCapture - DEBUG - EOF reached (sync)\n",
      "Processed all packets!\n",
      "Parsing all MQTT packets...\n",
      "2022-06-06 07:43:35,347 - FileCapture - DEBUG - Creating TShark subprocess with parameters: /usr/bin/tshark -l -n -T json -Y mqtt.msgtype == 3&&!(mqtt.msgtype == 12) -r /logs/f1c2qos0small.pcap --no-duplicate-keys\n",
      "2022-06-06 07:43:35,348 - FileCapture - DEBUG - Executable: /usr/bin/tshark\n",
      "2022-06-06 07:43:35,352 - FileCapture - DEBUG - TShark subprocess created\n"
     ]
    },
    {
     "name": "stderr",
     "output_type": "stream",
     "text": [
      "Running as user \"root\" and group \"root\". This could be dangerous.\n"
     ]
    },
    {
     "name": "stdout",
     "output_type": "stream",
     "text": [
      "2022-06-06 07:43:36,080 - FileCapture - DEBUG - EOF reached (sync)\n",
      "2022-06-06 07:43:36,192 - FileCapture - DEBUG - Creating TShark subprocess with parameters: /usr/bin/tshark -l -n -T json -Y tcp.port == 1883 -r /logs/f1c2qos0small.pcap --no-duplicate-keys\n",
      "2022-06-06 07:43:36,192 - FileCapture - DEBUG - Executable: /usr/bin/tshark\n",
      "2022-06-06 07:43:36,197 - FileCapture - DEBUG - TShark subprocess created\n"
     ]
    },
    {
     "name": "stderr",
     "output_type": "stream",
     "text": [
      "Running as user \"root\" and group \"root\". This could be dangerous.\n"
     ]
    },
    {
     "name": "stdout",
     "output_type": "stream",
     "text": [
      "2022-06-06 07:43:37,025 - FileCapture - DEBUG - EOF reached (sync)\n",
      "Processed all packets!\n",
      "Parsing all MQTT packets...\n",
      "2022-06-06 07:43:37,142 - FileCapture - DEBUG - Creating TShark subprocess with parameters: /usr/bin/tshark -l -n -T json -Y mqtt.msgtype == 3||mqtt.msgtype == 5 -r /logs/f1c2qos1small.pcap --no-duplicate-keys\n",
      "2022-06-06 07:43:37,142 - FileCapture - DEBUG - Executable: /usr/bin/tshark\n",
      "2022-06-06 07:43:37,146 - FileCapture - DEBUG - TShark subprocess created\n"
     ]
    },
    {
     "name": "stderr",
     "output_type": "stream",
     "text": [
      "Running as user \"root\" and group \"root\". This could be dangerous.\n"
     ]
    },
    {
     "name": "stdout",
     "output_type": "stream",
     "text": [
      "2022-06-06 07:43:37,850 - FileCapture - DEBUG - EOF reached (sync)\n",
      "2022-06-06 07:43:37,966 - FileCapture - DEBUG - Creating TShark subprocess with parameters: /usr/bin/tshark -l -n -T json -Y tcp.port == 1883 -r /logs/f1c2qos1small.pcap --no-duplicate-keys\n",
      "2022-06-06 07:43:37,966 - FileCapture - DEBUG - Executable: /usr/bin/tshark\n",
      "2022-06-06 07:43:37,970 - FileCapture - DEBUG - TShark subprocess created\n"
     ]
    },
    {
     "name": "stderr",
     "output_type": "stream",
     "text": [
      "Running as user \"root\" and group \"root\". This could be dangerous.\n"
     ]
    },
    {
     "name": "stdout",
     "output_type": "stream",
     "text": [
      "2022-06-06 07:43:39,032 - FileCapture - DEBUG - EOF reached (sync)\n",
      "Processed all packets!\n",
      "Parsing all MQTT packets...\n",
      "2022-06-06 07:43:39,152 - FileCapture - DEBUG - Creating TShark subprocess with parameters: /usr/bin/tshark -l -n -T json -Y mqtt.msgtype == 3||mqtt.msgtype == 5 -r /logs/f1c2qos2small.pcap --no-duplicate-keys\n",
      "2022-06-06 07:43:39,152 - FileCapture - DEBUG - Executable: /usr/bin/tshark\n",
      "2022-06-06 07:43:39,157 - FileCapture - DEBUG - TShark subprocess created\n"
     ]
    },
    {
     "name": "stderr",
     "output_type": "stream",
     "text": [
      "Running as user \"root\" and group \"root\". This could be dangerous.\n"
     ]
    },
    {
     "name": "stdout",
     "output_type": "stream",
     "text": [
      "2022-06-06 07:43:40,131 - FileCapture - DEBUG - EOF reached (sync)\n",
      "2022-06-06 07:43:40,247 - FileCapture - DEBUG - Creating TShark subprocess with parameters: /usr/bin/tshark -l -n -T json -Y tcp.port == 1883 -r /logs/f1c2qos2small.pcap --no-duplicate-keys\n",
      "2022-06-06 07:43:40,247 - FileCapture - DEBUG - Executable: /usr/bin/tshark\n",
      "2022-06-06 07:43:40,251 - FileCapture - DEBUG - TShark subprocess created\n"
     ]
    },
    {
     "name": "stderr",
     "output_type": "stream",
     "text": [
      "Running as user \"root\" and group \"root\". This could be dangerous.\n"
     ]
    },
    {
     "name": "stdout",
     "output_type": "stream",
     "text": [
      "2022-06-06 07:43:41,878 - FileCapture - DEBUG - EOF reached (sync)\n",
      "Processed all packets!\n",
      "Parsing all MQTT packets...\n",
      "2022-06-06 07:43:41,994 - FileCapture - DEBUG - Creating TShark subprocess with parameters: /usr/bin/tshark -l -n -T json -Y mqtt.msgtype == 3&&!(mqtt.msgtype == 12) -r /logs/f1c3qos0small.pcap --no-duplicate-keys\n",
      "2022-06-06 07:43:41,995 - FileCapture - DEBUG - Executable: /usr/bin/tshark\n",
      "2022-06-06 07:43:41,999 - FileCapture - DEBUG - TShark subprocess created\n"
     ]
    },
    {
     "name": "stderr",
     "output_type": "stream",
     "text": [
      "Running as user \"root\" and group \"root\". This could be dangerous.\n"
     ]
    },
    {
     "name": "stdout",
     "output_type": "stream",
     "text": [
      "2022-06-06 07:43:42,931 - FileCapture - DEBUG - EOF reached (sync)\n",
      "2022-06-06 07:43:43,044 - FileCapture - DEBUG - Creating TShark subprocess with parameters: /usr/bin/tshark -l -n -T json -Y tcp.port == 1883 -r /logs/f1c3qos0small.pcap --no-duplicate-keys\n",
      "2022-06-06 07:43:43,045 - FileCapture - DEBUG - Executable: /usr/bin/tshark\n",
      "2022-06-06 07:43:43,050 - FileCapture - DEBUG - TShark subprocess created\n"
     ]
    },
    {
     "name": "stderr",
     "output_type": "stream",
     "text": [
      "Running as user \"root\" and group \"root\". This could be dangerous.\n"
     ]
    },
    {
     "name": "stdout",
     "output_type": "stream",
     "text": [
      "2022-06-06 07:43:44,163 - FileCapture - DEBUG - EOF reached (sync)\n",
      "Processed all packets!\n",
      "Parsing all MQTT packets...\n",
      "2022-06-06 07:43:44,281 - FileCapture - DEBUG - Creating TShark subprocess with parameters: /usr/bin/tshark -l -n -T json -Y mqtt.msgtype == 3||mqtt.msgtype == 5 -r /logs/f1c3qos1small.pcap --no-duplicate-keys\n",
      "2022-06-06 07:43:44,282 - FileCapture - DEBUG - Executable: /usr/bin/tshark\n",
      "2022-06-06 07:43:44,286 - FileCapture - DEBUG - TShark subprocess created\n"
     ]
    },
    {
     "name": "stderr",
     "output_type": "stream",
     "text": [
      "Running as user \"root\" and group \"root\". This could be dangerous.\n"
     ]
    },
    {
     "name": "stdout",
     "output_type": "stream",
     "text": [
      "2022-06-06 07:43:45,247 - FileCapture - DEBUG - EOF reached (sync)\n",
      "2022-06-06 07:43:45,362 - FileCapture - DEBUG - Creating TShark subprocess with parameters: /usr/bin/tshark -l -n -T json -Y tcp.port == 1883 -r /logs/f1c3qos1small.pcap --no-duplicate-keys\n",
      "2022-06-06 07:43:45,362 - FileCapture - DEBUG - Executable: /usr/bin/tshark\n",
      "2022-06-06 07:43:45,367 - FileCapture - DEBUG - TShark subprocess created\n"
     ]
    },
    {
     "name": "stderr",
     "output_type": "stream",
     "text": [
      "Running as user \"root\" and group \"root\". This could be dangerous.\n"
     ]
    },
    {
     "name": "stdout",
     "output_type": "stream",
     "text": [
      "2022-06-06 07:43:46,797 - FileCapture - DEBUG - EOF reached (sync)\n",
      "Processed all packets!\n",
      "Parsing all MQTT packets...\n",
      "2022-06-06 07:43:46,914 - FileCapture - DEBUG - Creating TShark subprocess with parameters: /usr/bin/tshark -l -n -T json -Y mqtt.msgtype == 3||mqtt.msgtype == 5 -r /logs/f1c3qos2small.pcap --no-duplicate-keys\n",
      "2022-06-06 07:43:46,915 - FileCapture - DEBUG - Executable: /usr/bin/tshark\n",
      "2022-06-06 07:43:46,919 - FileCapture - DEBUG - TShark subprocess created\n"
     ]
    },
    {
     "name": "stderr",
     "output_type": "stream",
     "text": [
      "Running as user \"root\" and group \"root\". This could be dangerous.\n"
     ]
    },
    {
     "name": "stdout",
     "output_type": "stream",
     "text": [
      "2022-06-06 07:43:54,614 - FileCapture - DEBUG - EOF reached (sync)\n",
      "2022-06-06 07:43:54,729 - FileCapture - DEBUG - Creating TShark subprocess with parameters: /usr/bin/tshark -l -n -T json -Y tcp.port == 1883 -r /logs/f1c3qos2small.pcap --no-duplicate-keys\n",
      "2022-06-06 07:43:54,730 - FileCapture - DEBUG - Executable: /usr/bin/tshark\n",
      "2022-06-06 07:43:54,734 - FileCapture - DEBUG - TShark subprocess created\n"
     ]
    },
    {
     "name": "stderr",
     "output_type": "stream",
     "text": [
      "Running as user \"root\" and group \"root\". This could be dangerous.\n"
     ]
    },
    {
     "name": "stdout",
     "output_type": "stream",
     "text": [
      "2022-06-06 07:44:03,562 - FileCapture - DEBUG - EOF reached (sync)\n",
      "Processed all packets!\n",
      "Parsing all MQTT packets...\n",
      "2022-06-06 07:44:03,683 - FileCapture - DEBUG - Creating TShark subprocess with parameters: /usr/bin/tshark -l -n -T json -Y mqtt.msgtype == 3&&!(mqtt.msgtype == 12) -r /logs/f1c4qos0small.pcap --no-duplicate-keys\n",
      "2022-06-06 07:44:03,683 - FileCapture - DEBUG - Executable: /usr/bin/tshark\n",
      "2022-06-06 07:44:03,687 - FileCapture - DEBUG - TShark subprocess created\n"
     ]
    },
    {
     "name": "stderr",
     "output_type": "stream",
     "text": [
      "Running as user \"root\" and group \"root\". This could be dangerous.\n"
     ]
    },
    {
     "name": "stdout",
     "output_type": "stream",
     "text": [
      "2022-06-06 07:44:04,792 - FileCapture - DEBUG - EOF reached (sync)\n",
      "2022-06-06 07:44:04,917 - FileCapture - DEBUG - Creating TShark subprocess with parameters: /usr/bin/tshark -l -n -T json -Y tcp.port == 1883 -r /logs/f1c4qos0small.pcap --no-duplicate-keys\n",
      "2022-06-06 07:44:04,917 - FileCapture - DEBUG - Executable: /usr/bin/tshark\n",
      "2022-06-06 07:44:04,921 - FileCapture - DEBUG - TShark subprocess created\n"
     ]
    },
    {
     "name": "stderr",
     "output_type": "stream",
     "text": [
      "Running as user \"root\" and group \"root\". This could be dangerous.\n"
     ]
    },
    {
     "name": "stdout",
     "output_type": "stream",
     "text": [
      "2022-06-06 07:44:06,323 - FileCapture - DEBUG - EOF reached (sync)\n",
      "Processed all packets!\n",
      "Parsing all MQTT packets...\n",
      "Parsing all MQTT packets...\n",
      "2022-06-06 07:44:06,443 - FileCapture - DEBUG - Creating TShark subprocess with parameters: /usr/bin/tshark -l -n -T json -Y mqtt.msgtype == 3||mqtt.msgtype == 5 -r /logs/f1c4qos2small.pcap --no-duplicate-keys\n",
      "2022-06-06 07:44:06,444 - FileCapture - DEBUG - Executable: /usr/bin/tshark\n",
      "2022-06-06 07:44:06,449 - FileCapture - DEBUG - TShark subprocess created\n"
     ]
    },
    {
     "name": "stderr",
     "output_type": "stream",
     "text": [
      "Running as user \"root\" and group \"root\". This could be dangerous.\n"
     ]
    },
    {
     "name": "stdout",
     "output_type": "stream",
     "text": [
      "2022-06-06 07:44:08,485 - FileCapture - DEBUG - EOF reached (sync)\n",
      "2022-06-06 07:44:08,603 - FileCapture - DEBUG - Creating TShark subprocess with parameters: /usr/bin/tshark -l -n -T json -Y tcp.port == 1883 -r /logs/f1c4qos2small.pcap --no-duplicate-keys\n",
      "2022-06-06 07:44:08,603 - FileCapture - DEBUG - Executable: /usr/bin/tshark\n",
      "2022-06-06 07:44:08,608 - FileCapture - DEBUG - TShark subprocess created\n"
     ]
    },
    {
     "name": "stderr",
     "output_type": "stream",
     "text": [
      "Running as user \"root\" and group \"root\". This could be dangerous.\n"
     ]
    },
    {
     "name": "stdout",
     "output_type": "stream",
     "text": [
      "2022-06-06 07:44:11,832 - FileCapture - DEBUG - EOF reached (sync)\n",
      "Processed all packets!\n",
      "Parsing all MQTT packets...\n",
      "2022-06-06 07:44:11,950 - FileCapture - DEBUG - Creating TShark subprocess with parameters: /usr/bin/tshark -l -n -T json -Y mqtt.msgtype == 3&&!(mqtt.msgtype == 12) -r /logs/f10c1qos0small.pcap --no-duplicate-keys\n",
      "2022-06-06 07:44:11,951 - FileCapture - DEBUG - Executable: /usr/bin/tshark\n",
      "2022-06-06 07:44:11,955 - FileCapture - DEBUG - TShark subprocess created\n"
     ]
    },
    {
     "name": "stderr",
     "output_type": "stream",
     "text": [
      "Running as user \"root\" and group \"root\". This could be dangerous.\n"
     ]
    },
    {
     "name": "stdout",
     "output_type": "stream",
     "text": [
      "2022-06-06 07:44:12,328 - FileCapture - DEBUG - EOF reached (sync)\n",
      "2022-06-06 07:44:12,440 - FileCapture - DEBUG - Creating TShark subprocess with parameters: /usr/bin/tshark -l -n -T json -Y tcp.port == 1883 -r /logs/f10c1qos0small.pcap --no-duplicate-keys\n",
      "2022-06-06 07:44:12,440 - FileCapture - DEBUG - Executable: /usr/bin/tshark\n",
      "2022-06-06 07:44:12,445 - FileCapture - DEBUG - TShark subprocess created\n"
     ]
    },
    {
     "name": "stderr",
     "output_type": "stream",
     "text": [
      "Running as user \"root\" and group \"root\". This could be dangerous.\n"
     ]
    },
    {
     "name": "stdout",
     "output_type": "stream",
     "text": [
      "2022-06-06 07:44:12,889 - FileCapture - DEBUG - EOF reached (sync)\n",
      "Processed all packets!\n",
      "Parsing all MQTT packets...\n",
      "2022-06-06 07:44:13,007 - FileCapture - DEBUG - Creating TShark subprocess with parameters: /usr/bin/tshark -l -n -T json -Y mqtt.msgtype == 3||mqtt.msgtype == 5 -r /logs/f10c1qos1small.pcap --no-duplicate-keys\n",
      "2022-06-06 07:44:13,008 - FileCapture - DEBUG - Executable: /usr/bin/tshark\n",
      "2022-06-06 07:44:13,012 - FileCapture - DEBUG - TShark subprocess created\n"
     ]
    },
    {
     "name": "stderr",
     "output_type": "stream",
     "text": [
      "Running as user \"root\" and group \"root\". This could be dangerous.\n"
     ]
    },
    {
     "name": "stdout",
     "output_type": "stream",
     "text": [
      "2022-06-06 07:44:13,415 - FileCapture - DEBUG - EOF reached (sync)\n",
      "2022-06-06 07:44:13,533 - FileCapture - DEBUG - Creating TShark subprocess with parameters: /usr/bin/tshark -l -n -T json -Y tcp.port == 1883 -r /logs/f10c1qos1small.pcap --no-duplicate-keys\n",
      "2022-06-06 07:44:13,534 - FileCapture - DEBUG - Executable: /usr/bin/tshark\n",
      "2022-06-06 07:44:13,538 - FileCapture - DEBUG - TShark subprocess created\n"
     ]
    },
    {
     "name": "stderr",
     "output_type": "stream",
     "text": [
      "Running as user \"root\" and group \"root\". This could be dangerous.\n"
     ]
    },
    {
     "name": "stdout",
     "output_type": "stream",
     "text": [
      "2022-06-06 07:44:14,094 - FileCapture - DEBUG - EOF reached (sync)\n",
      "Processed all packets!\n",
      "Parsing all MQTT packets...\n",
      "2022-06-06 07:44:14,209 - FileCapture - DEBUG - Creating TShark subprocess with parameters: /usr/bin/tshark -l -n -T json -Y mqtt.msgtype == 3||mqtt.msgtype == 5 -r /logs/f10c1qos2small.pcap --no-duplicate-keys\n",
      "2022-06-06 07:44:14,209 - FileCapture - DEBUG - Executable: /usr/bin/tshark\n",
      "2022-06-06 07:44:14,214 - FileCapture - DEBUG - TShark subprocess created\n"
     ]
    },
    {
     "name": "stderr",
     "output_type": "stream",
     "text": [
      "Running as user \"root\" and group \"root\". This could be dangerous.\n"
     ]
    },
    {
     "name": "stdout",
     "output_type": "stream",
     "text": [
      "2022-06-06 07:44:14,748 - FileCapture - DEBUG - EOF reached (sync)\n",
      "2022-06-06 07:44:14,861 - FileCapture - DEBUG - Creating TShark subprocess with parameters: /usr/bin/tshark -l -n -T json -Y tcp.port == 1883 -r /logs/f10c1qos2small.pcap --no-duplicate-keys\n",
      "2022-06-06 07:44:14,862 - FileCapture - DEBUG - Executable: /usr/bin/tshark\n",
      "2022-06-06 07:44:14,867 - FileCapture - DEBUG - TShark subprocess created\n"
     ]
    },
    {
     "name": "stderr",
     "output_type": "stream",
     "text": [
      "Running as user \"root\" and group \"root\". This could be dangerous.\n"
     ]
    },
    {
     "name": "stdout",
     "output_type": "stream",
     "text": [
      "2022-06-06 07:44:15,723 - FileCapture - DEBUG - EOF reached (sync)\n",
      "Processed all packets!\n",
      "Parsing all MQTT packets...\n",
      "2022-06-06 07:44:15,838 - FileCapture - DEBUG - Creating TShark subprocess with parameters: /usr/bin/tshark -l -n -T json -Y mqtt.msgtype == 3&&!(mqtt.msgtype == 12) -r /logs/f10c2qos0small.pcap --no-duplicate-keys\n",
      "2022-06-06 07:44:15,839 - FileCapture - DEBUG - Executable: /usr/bin/tshark\n",
      "2022-06-06 07:44:15,843 - FileCapture - DEBUG - TShark subprocess created\n"
     ]
    },
    {
     "name": "stderr",
     "output_type": "stream",
     "text": [
      "Running as user \"root\" and group \"root\". This could be dangerous.\n"
     ]
    },
    {
     "name": "stdout",
     "output_type": "stream",
     "text": [
      "2022-06-06 07:44:16,480 - FileCapture - DEBUG - EOF reached (sync)\n",
      "2022-06-06 07:44:16,593 - FileCapture - DEBUG - Creating TShark subprocess with parameters: /usr/bin/tshark -l -n -T json -Y tcp.port == 1883 -r /logs/f10c2qos0small.pcap --no-duplicate-keys\n",
      "2022-06-06 07:44:16,593 - FileCapture - DEBUG - Executable: /usr/bin/tshark\n",
      "2022-06-06 07:44:16,598 - FileCapture - DEBUG - TShark subprocess created\n"
     ]
    },
    {
     "name": "stderr",
     "output_type": "stream",
     "text": [
      "Running as user \"root\" and group \"root\". This could be dangerous.\n"
     ]
    },
    {
     "name": "stdout",
     "output_type": "stream",
     "text": [
      "2022-06-06 07:44:17,326 - FileCapture - DEBUG - EOF reached (sync)\n",
      "Processed all packets!\n",
      "Parsing all MQTT packets...\n",
      "2022-06-06 07:44:17,442 - FileCapture - DEBUG - Creating TShark subprocess with parameters: /usr/bin/tshark -l -n -T json -Y mqtt.msgtype == 3||mqtt.msgtype == 5 -r /logs/f10c2qos1small.pcap --no-duplicate-keys\n",
      "2022-06-06 07:44:17,443 - FileCapture - DEBUG - Executable: /usr/bin/tshark\n",
      "2022-06-06 07:44:17,447 - FileCapture - DEBUG - TShark subprocess created\n"
     ]
    },
    {
     "name": "stderr",
     "output_type": "stream",
     "text": [
      "Running as user \"root\" and group \"root\". This could be dangerous.\n"
     ]
    },
    {
     "name": "stdout",
     "output_type": "stream",
     "text": [
      "2022-06-06 07:44:18,070 - FileCapture - DEBUG - EOF reached (sync)\n",
      "2022-06-06 07:44:18,186 - FileCapture - DEBUG - Creating TShark subprocess with parameters: /usr/bin/tshark -l -n -T json -Y tcp.port == 1883 -r /logs/f10c2qos1small.pcap --no-duplicate-keys\n",
      "2022-06-06 07:44:18,186 - FileCapture - DEBUG - Executable: /usr/bin/tshark\n",
      "2022-06-06 07:44:18,191 - FileCapture - DEBUG - TShark subprocess created\n"
     ]
    },
    {
     "name": "stderr",
     "output_type": "stream",
     "text": [
      "Running as user \"root\" and group \"root\". This could be dangerous.\n"
     ]
    },
    {
     "name": "stdout",
     "output_type": "stream",
     "text": [
      "2022-06-06 07:44:19,145 - FileCapture - DEBUG - EOF reached (sync)\n",
      "Processed all packets!\n",
      "Parsing all MQTT packets...\n",
      "2022-06-06 07:44:19,265 - FileCapture - DEBUG - Creating TShark subprocess with parameters: /usr/bin/tshark -l -n -T json -Y mqtt.msgtype == 3||mqtt.msgtype == 5 -r /logs/f10c2qos2small.pcap --no-duplicate-keys\n",
      "2022-06-06 07:44:19,266 - FileCapture - DEBUG - Executable: /usr/bin/tshark\n",
      "2022-06-06 07:44:19,270 - FileCapture - DEBUG - TShark subprocess created\n"
     ]
    },
    {
     "name": "stderr",
     "output_type": "stream",
     "text": [
      "Running as user \"root\" and group \"root\". This could be dangerous.\n"
     ]
    },
    {
     "name": "stdout",
     "output_type": "stream",
     "text": [
      "2022-06-06 07:44:20,181 - FileCapture - DEBUG - EOF reached (sync)\n",
      "2022-06-06 07:44:20,298 - FileCapture - DEBUG - Creating TShark subprocess with parameters: /usr/bin/tshark -l -n -T json -Y tcp.port == 1883 -r /logs/f10c2qos2small.pcap --no-duplicate-keys\n",
      "2022-06-06 07:44:20,299 - FileCapture - DEBUG - Executable: /usr/bin/tshark\n",
      "2022-06-06 07:44:20,303 - FileCapture - DEBUG - TShark subprocess created\n"
     ]
    },
    {
     "name": "stderr",
     "output_type": "stream",
     "text": [
      "Running as user \"root\" and group \"root\". This could be dangerous.\n"
     ]
    },
    {
     "name": "stdout",
     "output_type": "stream",
     "text": [
      "2022-06-06 07:44:21,877 - FileCapture - DEBUG - EOF reached (sync)\n",
      "Processed all packets!\n",
      "Parsing all MQTT packets...\n",
      "2022-06-06 07:44:22,010 - FileCapture - DEBUG - Creating TShark subprocess with parameters: /usr/bin/tshark -l -n -T json -Y mqtt.msgtype == 3&&!(mqtt.msgtype == 12) -r /logs/f10c3qos0small.pcap --no-duplicate-keys\n",
      "2022-06-06 07:44:22,011 - FileCapture - DEBUG - Executable: /usr/bin/tshark\n",
      "2022-06-06 07:44:22,018 - FileCapture - DEBUG - TShark subprocess created\n"
     ]
    },
    {
     "name": "stderr",
     "output_type": "stream",
     "text": [
      "Running as user \"root\" and group \"root\". This could be dangerous.\n"
     ]
    },
    {
     "name": "stdout",
     "output_type": "stream",
     "text": [
      "2022-06-06 07:44:22,938 - FileCapture - DEBUG - EOF reached (sync)\n",
      "2022-06-06 07:44:23,053 - FileCapture - DEBUG - Creating TShark subprocess with parameters: /usr/bin/tshark -l -n -T json -Y tcp.port == 1883 -r /logs/f10c3qos0small.pcap --no-duplicate-keys\n",
      "2022-06-06 07:44:23,053 - FileCapture - DEBUG - Executable: /usr/bin/tshark\n",
      "2022-06-06 07:44:23,058 - FileCapture - DEBUG - TShark subprocess created\n"
     ]
    },
    {
     "name": "stderr",
     "output_type": "stream",
     "text": [
      "Running as user \"root\" and group \"root\". This could be dangerous.\n"
     ]
    },
    {
     "name": "stdout",
     "output_type": "stream",
     "text": [
      "2022-06-06 07:44:24,091 - FileCapture - DEBUG - EOF reached (sync)\n",
      "Processed all packets!\n",
      "Parsing all MQTT packets...\n",
      "2022-06-06 07:44:24,210 - FileCapture - DEBUG - Creating TShark subprocess with parameters: /usr/bin/tshark -l -n -T json -Y mqtt.msgtype == 3||mqtt.msgtype == 5 -r /logs/f10c3qos1small.pcap --no-duplicate-keys\n",
      "2022-06-06 07:44:24,210 - FileCapture - DEBUG - Executable: /usr/bin/tshark\n",
      "2022-06-06 07:44:24,216 - FileCapture - DEBUG - TShark subprocess created\n"
     ]
    },
    {
     "name": "stderr",
     "output_type": "stream",
     "text": [
      "Running as user \"root\" and group \"root\". This could be dangerous.\n"
     ]
    },
    {
     "name": "stdout",
     "output_type": "stream",
     "text": [
      "2022-06-06 07:44:25,047 - FileCapture - DEBUG - EOF reached (sync)\n",
      "2022-06-06 07:44:25,159 - FileCapture - DEBUG - Creating TShark subprocess with parameters: /usr/bin/tshark -l -n -T json -Y tcp.port == 1883 -r /logs/f10c3qos1small.pcap --no-duplicate-keys\n",
      "2022-06-06 07:44:25,160 - FileCapture - DEBUG - Executable: /usr/bin/tshark\n",
      "2022-06-06 07:44:25,164 - FileCapture - DEBUG - TShark subprocess created\n"
     ]
    },
    {
     "name": "stderr",
     "output_type": "stream",
     "text": [
      "Running as user \"root\" and group \"root\". This could be dangerous.\n"
     ]
    },
    {
     "name": "stdout",
     "output_type": "stream",
     "text": [
      "2022-06-06 07:44:26,442 - FileCapture - DEBUG - EOF reached (sync)\n",
      "Processed all packets!\n",
      "Parsing all MQTT packets...\n",
      "2022-06-06 07:44:26,563 - FileCapture - DEBUG - Creating TShark subprocess with parameters: /usr/bin/tshark -l -n -T json -Y mqtt.msgtype == 3||mqtt.msgtype == 5 -r /logs/f10c3qos2small.pcap --no-duplicate-keys\n",
      "2022-06-06 07:44:26,563 - FileCapture - DEBUG - Executable: /usr/bin/tshark\n",
      "2022-06-06 07:44:26,568 - FileCapture - DEBUG - TShark subprocess created\n"
     ]
    },
    {
     "name": "stderr",
     "output_type": "stream",
     "text": [
      "Running as user \"root\" and group \"root\". This could be dangerous.\n"
     ]
    },
    {
     "name": "stdout",
     "output_type": "stream",
     "text": [
      "2022-06-06 07:44:27,932 - FileCapture - DEBUG - EOF reached (sync)\n",
      "2022-06-06 07:44:28,050 - FileCapture - DEBUG - Creating TShark subprocess with parameters: /usr/bin/tshark -l -n -T json -Y tcp.port == 1883 -r /logs/f10c3qos2small.pcap --no-duplicate-keys\n",
      "2022-06-06 07:44:28,051 - FileCapture - DEBUG - Executable: /usr/bin/tshark\n",
      "2022-06-06 07:44:28,056 - FileCapture - DEBUG - TShark subprocess created\n"
     ]
    },
    {
     "name": "stderr",
     "output_type": "stream",
     "text": [
      "Running as user \"root\" and group \"root\". This could be dangerous.\n"
     ]
    },
    {
     "name": "stdout",
     "output_type": "stream",
     "text": [
      "2022-06-06 07:44:30,433 - FileCapture - DEBUG - EOF reached (sync)\n",
      "Processed all packets!\n",
      "Parsing all MQTT packets...\n",
      "2022-06-06 07:44:30,549 - FileCapture - DEBUG - Creating TShark subprocess with parameters: /usr/bin/tshark -l -n -T json -Y mqtt.msgtype == 3&&!(mqtt.msgtype == 12) -r /logs/f10c4qos0small.pcap --no-duplicate-keys\n",
      "2022-06-06 07:44:30,550 - FileCapture - DEBUG - Executable: /usr/bin/tshark\n",
      "2022-06-06 07:44:30,555 - FileCapture - DEBUG - TShark subprocess created\n"
     ]
    },
    {
     "name": "stderr",
     "output_type": "stream",
     "text": [
      "Running as user \"root\" and group \"root\". This could be dangerous.\n"
     ]
    },
    {
     "name": "stdout",
     "output_type": "stream",
     "text": [
      "2022-06-06 07:44:31,532 - FileCapture - DEBUG - EOF reached (sync)\n",
      "2022-06-06 07:44:31,646 - FileCapture - DEBUG - Creating TShark subprocess with parameters: /usr/bin/tshark -l -n -T json -Y tcp.port == 1883 -r /logs/f10c4qos0small.pcap --no-duplicate-keys\n",
      "2022-06-06 07:44:31,647 - FileCapture - DEBUG - Executable: /usr/bin/tshark\n",
      "2022-06-06 07:44:31,651 - FileCapture - DEBUG - TShark subprocess created\n"
     ]
    },
    {
     "name": "stderr",
     "output_type": "stream",
     "text": [
      "Running as user \"root\" and group \"root\". This could be dangerous.\n"
     ]
    },
    {
     "name": "stdout",
     "output_type": "stream",
     "text": [
      "2022-06-06 07:44:32,910 - FileCapture - DEBUG - EOF reached (sync)\n",
      "Processed all packets!\n",
      "Parsing all MQTT packets...\n",
      "2022-06-06 07:44:33,033 - FileCapture - DEBUG - Creating TShark subprocess with parameters: /usr/bin/tshark -l -n -T json -Y mqtt.msgtype == 3||mqtt.msgtype == 5 -r /logs/f10c4qos1small.pcap --no-duplicate-keys\n",
      "2022-06-06 07:44:33,033 - FileCapture - DEBUG - Executable: /usr/bin/tshark\n",
      "2022-06-06 07:44:33,037 - FileCapture - DEBUG - TShark subprocess created\n"
     ]
    },
    {
     "name": "stderr",
     "output_type": "stream",
     "text": [
      "Running as user \"root\" and group \"root\". This could be dangerous.\n"
     ]
    },
    {
     "name": "stdout",
     "output_type": "stream",
     "text": [
      "2022-06-06 07:44:34,142 - FileCapture - DEBUG - EOF reached (sync)\n",
      "2022-06-06 07:44:34,264 - FileCapture - DEBUG - Creating TShark subprocess with parameters: /usr/bin/tshark -l -n -T json -Y tcp.port == 1883 -r /logs/f10c4qos1small.pcap --no-duplicate-keys\n",
      "2022-06-06 07:44:34,265 - FileCapture - DEBUG - Executable: /usr/bin/tshark\n",
      "2022-06-06 07:44:34,270 - FileCapture - DEBUG - TShark subprocess created\n"
     ]
    },
    {
     "name": "stderr",
     "output_type": "stream",
     "text": [
      "Running as user \"root\" and group \"root\". This could be dangerous.\n"
     ]
    },
    {
     "name": "stdout",
     "output_type": "stream",
     "text": [
      "2022-06-06 07:44:35,951 - FileCapture - DEBUG - EOF reached (sync)\n",
      "Processed all packets!\n",
      "Parsing all MQTT packets...\n",
      "2022-06-06 07:44:36,071 - FileCapture - DEBUG - Creating TShark subprocess with parameters: /usr/bin/tshark -l -n -T json -Y mqtt.msgtype == 3||mqtt.msgtype == 5 -r /logs/f10c4qos2small.pcap --no-duplicate-keys\n",
      "2022-06-06 07:44:36,072 - FileCapture - DEBUG - Executable: /usr/bin/tshark\n",
      "2022-06-06 07:44:36,076 - FileCapture - DEBUG - TShark subprocess created\n"
     ]
    },
    {
     "name": "stderr",
     "output_type": "stream",
     "text": [
      "Running as user \"root\" and group \"root\". This could be dangerous.\n"
     ]
    },
    {
     "name": "stdout",
     "output_type": "stream",
     "text": [
      "2022-06-06 07:44:37,742 - FileCapture - DEBUG - EOF reached (sync)\n",
      "2022-06-06 07:44:37,864 - FileCapture - DEBUG - Creating TShark subprocess with parameters: /usr/bin/tshark -l -n -T json -Y tcp.port == 1883 -r /logs/f10c4qos2small.pcap --no-duplicate-keys\n",
      "2022-06-06 07:44:37,865 - FileCapture - DEBUG - Executable: /usr/bin/tshark\n",
      "2022-06-06 07:44:37,870 - FileCapture - DEBUG - TShark subprocess created\n"
     ]
    },
    {
     "name": "stderr",
     "output_type": "stream",
     "text": [
      "Running as user \"root\" and group \"root\". This could be dangerous.\n"
     ]
    },
    {
     "name": "stdout",
     "output_type": "stream",
     "text": [
      "2022-06-06 07:44:40,839 - FileCapture - DEBUG - EOF reached (sync)\n",
      "Processed all packets!\n",
      "Parsing all MQTT packets...\n",
      "2022-06-06 07:44:40,958 - FileCapture - DEBUG - Creating TShark subprocess with parameters: /usr/bin/tshark -l -n -T json -Y mqtt.msgtype == 3&&!(mqtt.msgtype == 12) -r /logs/f100c1qos0small.pcap --no-duplicate-keys\n",
      "2022-06-06 07:44:40,958 - FileCapture - DEBUG - Executable: /usr/bin/tshark\n",
      "2022-06-06 07:44:40,963 - FileCapture - DEBUG - TShark subprocess created\n"
     ]
    },
    {
     "name": "stderr",
     "output_type": "stream",
     "text": [
      "Running as user \"root\" and group \"root\". This could be dangerous.\n"
     ]
    },
    {
     "name": "stdout",
     "output_type": "stream",
     "text": [
      "2022-06-06 07:44:41,312 - FileCapture - DEBUG - EOF reached (sync)\n",
      "2022-06-06 07:44:41,423 - FileCapture - DEBUG - Creating TShark subprocess with parameters: /usr/bin/tshark -l -n -T json -Y tcp.port == 1883 -r /logs/f100c1qos0small.pcap --no-duplicate-keys\n",
      "2022-06-06 07:44:41,424 - FileCapture - DEBUG - Executable: /usr/bin/tshark\n",
      "2022-06-06 07:44:41,428 - FileCapture - DEBUG - TShark subprocess created\n"
     ]
    },
    {
     "name": "stderr",
     "output_type": "stream",
     "text": [
      "Running as user \"root\" and group \"root\". This could be dangerous.\n"
     ]
    },
    {
     "name": "stdout",
     "output_type": "stream",
     "text": [
      "2022-06-06 07:44:41,844 - FileCapture - DEBUG - EOF reached (sync)\n",
      "Processed all packets!\n",
      "Parsing all MQTT packets...\n",
      "2022-06-06 07:44:41,962 - FileCapture - DEBUG - Creating TShark subprocess with parameters: /usr/bin/tshark -l -n -T json -Y mqtt.msgtype == 3||mqtt.msgtype == 5 -r /logs/f100c1qos1small.pcap --no-duplicate-keys\n",
      "2022-06-06 07:44:41,963 - FileCapture - DEBUG - Executable: /usr/bin/tshark\n",
      "2022-06-06 07:44:41,967 - FileCapture - DEBUG - TShark subprocess created\n"
     ]
    },
    {
     "name": "stderr",
     "output_type": "stream",
     "text": [
      "Running as user \"root\" and group \"root\". This could be dangerous.\n"
     ]
    },
    {
     "name": "stdout",
     "output_type": "stream",
     "text": [
      "2022-06-06 07:44:42,324 - FileCapture - DEBUG - EOF reached (sync)\n",
      "2022-06-06 07:44:42,441 - FileCapture - DEBUG - Creating TShark subprocess with parameters: /usr/bin/tshark -l -n -T json -Y tcp.port == 1883 -r /logs/f100c1qos1small.pcap --no-duplicate-keys\n",
      "2022-06-06 07:44:42,442 - FileCapture - DEBUG - Executable: /usr/bin/tshark\n",
      "2022-06-06 07:44:42,447 - FileCapture - DEBUG - TShark subprocess created\n"
     ]
    },
    {
     "name": "stderr",
     "output_type": "stream",
     "text": [
      "Running as user \"root\" and group \"root\". This could be dangerous.\n"
     ]
    },
    {
     "name": "stdout",
     "output_type": "stream",
     "text": [
      "2022-06-06 07:44:42,910 - FileCapture - DEBUG - EOF reached (sync)\n",
      "Processed all packets!\n",
      "Parsing all MQTT packets...\n",
      "2022-06-06 07:44:43,025 - FileCapture - DEBUG - Creating TShark subprocess with parameters: /usr/bin/tshark -l -n -T json -Y mqtt.msgtype == 3||mqtt.msgtype == 5 -r /logs/f100c1qos2small.pcap --no-duplicate-keys\n",
      "2022-06-06 07:44:43,025 - FileCapture - DEBUG - Executable: /usr/bin/tshark\n",
      "2022-06-06 07:44:43,030 - FileCapture - DEBUG - TShark subprocess created\n"
     ]
    },
    {
     "name": "stderr",
     "output_type": "stream",
     "text": [
      "Running as user \"root\" and group \"root\". This could be dangerous.\n"
     ]
    },
    {
     "name": "stdout",
     "output_type": "stream",
     "text": [
      "2022-06-06 07:44:43,494 - FileCapture - DEBUG - EOF reached (sync)\n",
      "2022-06-06 07:44:43,604 - FileCapture - DEBUG - Creating TShark subprocess with parameters: /usr/bin/tshark -l -n -T json -Y tcp.port == 1883 -r /logs/f100c1qos2small.pcap --no-duplicate-keys\n",
      "2022-06-06 07:44:43,604 - FileCapture - DEBUG - Executable: /usr/bin/tshark\n",
      "2022-06-06 07:44:43,608 - FileCapture - DEBUG - TShark subprocess created\n"
     ]
    },
    {
     "name": "stderr",
     "output_type": "stream",
     "text": [
      "Running as user \"root\" and group \"root\". This could be dangerous.\n"
     ]
    },
    {
     "name": "stdout",
     "output_type": "stream",
     "text": [
      "2022-06-06 07:44:44,308 - FileCapture - DEBUG - EOF reached (sync)\n",
      "Processed all packets!\n",
      "Parsing all MQTT packets...\n",
      "2022-06-06 07:44:44,426 - FileCapture - DEBUG - Creating TShark subprocess with parameters: /usr/bin/tshark -l -n -T json -Y mqtt.msgtype == 3&&!(mqtt.msgtype == 12) -r /logs/f100c2qos0small.pcap --no-duplicate-keys\n",
      "2022-06-06 07:44:44,427 - FileCapture - DEBUG - Executable: /usr/bin/tshark\n",
      "2022-06-06 07:44:44,432 - FileCapture - DEBUG - TShark subprocess created\n"
     ]
    },
    {
     "name": "stderr",
     "output_type": "stream",
     "text": [
      "Running as user \"root\" and group \"root\". This could be dangerous.\n"
     ]
    },
    {
     "name": "stdout",
     "output_type": "stream",
     "text": [
      "2022-06-06 07:44:45,031 - FileCapture - DEBUG - EOF reached (sync)\n",
      "2022-06-06 07:44:45,147 - FileCapture - DEBUG - Creating TShark subprocess with parameters: /usr/bin/tshark -l -n -T json -Y tcp.port == 1883 -r /logs/f100c2qos0small.pcap --no-duplicate-keys\n",
      "2022-06-06 07:44:45,148 - FileCapture - DEBUG - Executable: /usr/bin/tshark\n",
      "2022-06-06 07:44:45,152 - FileCapture - DEBUG - TShark subprocess created\n"
     ]
    },
    {
     "name": "stderr",
     "output_type": "stream",
     "text": [
      "Running as user \"root\" and group \"root\". This could be dangerous.\n"
     ]
    },
    {
     "name": "stdout",
     "output_type": "stream",
     "text": [
      "2022-06-06 07:44:45,862 - FileCapture - DEBUG - EOF reached (sync)\n",
      "Processed all packets!\n",
      "Parsing all MQTT packets...\n",
      "2022-06-06 07:44:45,981 - FileCapture - DEBUG - Creating TShark subprocess with parameters: /usr/bin/tshark -l -n -T json -Y mqtt.msgtype == 3||mqtt.msgtype == 5 -r /logs/f100c2qos1small.pcap --no-duplicate-keys\n",
      "2022-06-06 07:44:45,982 - FileCapture - DEBUG - Executable: /usr/bin/tshark\n",
      "2022-06-06 07:44:45,986 - FileCapture - DEBUG - TShark subprocess created\n"
     ]
    },
    {
     "name": "stderr",
     "output_type": "stream",
     "text": [
      "Running as user \"root\" and group \"root\". This could be dangerous.\n"
     ]
    },
    {
     "name": "stdout",
     "output_type": "stream",
     "text": [
      "2022-06-06 07:44:46,661 - FileCapture - DEBUG - EOF reached (sync)\n",
      "2022-06-06 07:44:46,774 - FileCapture - DEBUG - Creating TShark subprocess with parameters: /usr/bin/tshark -l -n -T json -Y tcp.port == 1883 -r /logs/f100c2qos1small.pcap --no-duplicate-keys\n",
      "2022-06-06 07:44:46,775 - FileCapture - DEBUG - Executable: /usr/bin/tshark\n",
      "2022-06-06 07:44:46,779 - FileCapture - DEBUG - TShark subprocess created\n"
     ]
    },
    {
     "name": "stderr",
     "output_type": "stream",
     "text": [
      "Running as user \"root\" and group \"root\". This could be dangerous.\n"
     ]
    },
    {
     "name": "stdout",
     "output_type": "stream",
     "text": [
      "2022-06-06 07:44:47,527 - FileCapture - DEBUG - EOF reached (sync)\n",
      "Processed all packets!\n",
      "Parsing all MQTT packets...\n",
      "2022-06-06 07:44:47,650 - FileCapture - DEBUG - Creating TShark subprocess with parameters: /usr/bin/tshark -l -n -T json -Y mqtt.msgtype == 3||mqtt.msgtype == 5 -r /logs/f100c2qos2small.pcap --no-duplicate-keys\n",
      "2022-06-06 07:44:47,651 - FileCapture - DEBUG - Executable: /usr/bin/tshark\n",
      "2022-06-06 07:44:47,657 - FileCapture - DEBUG - TShark subprocess created\n"
     ]
    },
    {
     "name": "stderr",
     "output_type": "stream",
     "text": [
      "Running as user \"root\" and group \"root\". This could be dangerous.\n"
     ]
    },
    {
     "name": "stdout",
     "output_type": "stream",
     "text": [
      "2022-06-06 07:44:48,522 - FileCapture - DEBUG - EOF reached (sync)\n",
      "2022-06-06 07:44:48,640 - FileCapture - DEBUG - Creating TShark subprocess with parameters: /usr/bin/tshark -l -n -T json -Y tcp.port == 1883 -r /logs/f100c2qos2small.pcap --no-duplicate-keys\n",
      "2022-06-06 07:44:48,641 - FileCapture - DEBUG - Executable: /usr/bin/tshark\n",
      "2022-06-06 07:44:48,645 - FileCapture - DEBUG - TShark subprocess created\n"
     ]
    },
    {
     "name": "stderr",
     "output_type": "stream",
     "text": [
      "Running as user \"root\" and group \"root\". This could be dangerous.\n"
     ]
    },
    {
     "name": "stdout",
     "output_type": "stream",
     "text": [
      "2022-06-06 07:44:49,817 - FileCapture - DEBUG - EOF reached (sync)\n",
      "Processed all packets!\n",
      "Parsing all MQTT packets...\n",
      "2022-06-06 07:44:49,936 - FileCapture - DEBUG - Creating TShark subprocess with parameters: /usr/bin/tshark -l -n -T json -Y mqtt.msgtype == 3&&!(mqtt.msgtype == 12) -r /logs/f100c3qos0small.pcap --no-duplicate-keys\n",
      "2022-06-06 07:44:49,937 - FileCapture - DEBUG - Executable: /usr/bin/tshark\n",
      "2022-06-06 07:44:49,942 - FileCapture - DEBUG - TShark subprocess created\n"
     ]
    },
    {
     "name": "stderr",
     "output_type": "stream",
     "text": [
      "Running as user \"root\" and group \"root\". This could be dangerous.\n"
     ]
    },
    {
     "name": "stdout",
     "output_type": "stream",
     "text": [
      "2022-06-06 07:44:50,795 - FileCapture - DEBUG - EOF reached (sync)\n",
      "2022-06-06 07:44:50,911 - FileCapture - DEBUG - Creating TShark subprocess with parameters: /usr/bin/tshark -l -n -T json -Y tcp.port == 1883 -r /logs/f100c3qos0small.pcap --no-duplicate-keys\n",
      "2022-06-06 07:44:50,911 - FileCapture - DEBUG - Executable: /usr/bin/tshark\n",
      "2022-06-06 07:44:50,916 - FileCapture - DEBUG - TShark subprocess created\n"
     ]
    },
    {
     "name": "stderr",
     "output_type": "stream",
     "text": [
      "Running as user \"root\" and group \"root\". This could be dangerous.\n"
     ]
    },
    {
     "name": "stdout",
     "output_type": "stream",
     "text": [
      "2022-06-06 07:44:51,870 - FileCapture - DEBUG - EOF reached (sync)\n",
      "Processed all packets!\n",
      "Parsing all MQTT packets...\n",
      "2022-06-06 07:44:51,995 - FileCapture - DEBUG - Creating TShark subprocess with parameters: /usr/bin/tshark -l -n -T json -Y mqtt.msgtype == 3||mqtt.msgtype == 5 -r /logs/f100c3qos1small.pcap --no-duplicate-keys\n",
      "2022-06-06 07:44:51,995 - FileCapture - DEBUG - Executable: /usr/bin/tshark\n",
      "2022-06-06 07:44:52,000 - FileCapture - DEBUG - TShark subprocess created\n"
     ]
    },
    {
     "name": "stderr",
     "output_type": "stream",
     "text": [
      "Running as user \"root\" and group \"root\". This could be dangerous.\n"
     ]
    },
    {
     "name": "stdout",
     "output_type": "stream",
     "text": [
      "2022-06-06 07:44:52,917 - FileCapture - DEBUG - EOF reached (sync)\n",
      "2022-06-06 07:44:53,034 - FileCapture - DEBUG - Creating TShark subprocess with parameters: /usr/bin/tshark -l -n -T json -Y tcp.port == 1883 -r /logs/f100c3qos1small.pcap --no-duplicate-keys\n",
      "2022-06-06 07:44:53,035 - FileCapture - DEBUG - Executable: /usr/bin/tshark\n",
      "2022-06-06 07:44:53,040 - FileCapture - DEBUG - TShark subprocess created\n"
     ]
    },
    {
     "name": "stderr",
     "output_type": "stream",
     "text": [
      "Running as user \"root\" and group \"root\". This could be dangerous.\n"
     ]
    },
    {
     "name": "stdout",
     "output_type": "stream",
     "text": [
      "2022-06-06 07:44:54,157 - FileCapture - DEBUG - EOF reached (sync)\n",
      "Processed all packets!\n",
      "Parsing all MQTT packets...\n",
      "2022-06-06 07:44:54,282 - FileCapture - DEBUG - Creating TShark subprocess with parameters: /usr/bin/tshark -l -n -T json -Y mqtt.msgtype == 3||mqtt.msgtype == 5 -r /logs/f100c3qos2small.pcap --no-duplicate-keys\n",
      "2022-06-06 07:44:54,282 - FileCapture - DEBUG - Executable: /usr/bin/tshark\n",
      "2022-06-06 07:44:54,287 - FileCapture - DEBUG - TShark subprocess created\n"
     ]
    },
    {
     "name": "stderr",
     "output_type": "stream",
     "text": [
      "Running as user \"root\" and group \"root\". This could be dangerous.\n"
     ]
    },
    {
     "name": "stdout",
     "output_type": "stream",
     "text": [
      "2022-06-06 07:44:55,390 - FileCapture - DEBUG - EOF reached (sync)\n",
      "2022-06-06 07:44:55,506 - FileCapture - DEBUG - Creating TShark subprocess with parameters: /usr/bin/tshark -l -n -T json -Y tcp.port == 1883 -r /logs/f100c3qos2small.pcap --no-duplicate-keys\n",
      "2022-06-06 07:44:55,506 - FileCapture - DEBUG - Executable: /usr/bin/tshark\n",
      "2022-06-06 07:44:55,510 - FileCapture - DEBUG - TShark subprocess created\n"
     ]
    },
    {
     "name": "stderr",
     "output_type": "stream",
     "text": [
      "Running as user \"root\" and group \"root\". This could be dangerous.\n"
     ]
    },
    {
     "name": "stdout",
     "output_type": "stream",
     "text": [
      "2022-06-06 07:44:57,180 - FileCapture - DEBUG - EOF reached (sync)\n",
      "Processed all packets!\n",
      "Parsing all MQTT packets...\n",
      "2022-06-06 07:44:57,304 - FileCapture - DEBUG - Creating TShark subprocess with parameters: /usr/bin/tshark -l -n -T json -Y mqtt.msgtype == 3&&!(mqtt.msgtype == 12) -r /logs/f100c4qos0small.pcap --no-duplicate-keys\n",
      "2022-06-06 07:44:57,305 - FileCapture - DEBUG - Executable: /usr/bin/tshark\n",
      "2022-06-06 07:44:57,311 - FileCapture - DEBUG - TShark subprocess created\n"
     ]
    },
    {
     "name": "stderr",
     "output_type": "stream",
     "text": [
      "Running as user \"root\" and group \"root\". This could be dangerous.\n"
     ]
    },
    {
     "name": "stdout",
     "output_type": "stream",
     "text": [
      "2022-06-06 07:44:58,331 - FileCapture - DEBUG - EOF reached (sync)\n"
     ]
    },
    {
     "name": "stderr",
     "output_type": "stream",
     "text": [
      "tshark: The file \"/logs/f100c4qos0small.pcap\" appears to be damaged or corrupt.\n",
      "(pcapng_read_unknown_block: total block length 0 of an unknown block type is less than the minimum block size 12)\n"
     ]
    },
    {
     "ename": "TSharkCrashException",
     "evalue": "TShark seems to have crashed (retcode: 2). Try rerunning in debug mode [ capture_obj.set_debug() ] or try updating tshark.",
     "output_type": "error",
     "traceback": [
      "\u001b[0;31m---------------------------------------------------------------------------\u001b[0m",
      "\u001b[0;31mTSharkCrashException\u001b[0m                      Traceback (most recent call last)",
      "\u001b[1;32m/root/mqttpaper_qos_analysis/packet_analysis_nb.ipynb Cell 5'\u001b[0m in \u001b[0;36m<cell line: 7>\u001b[0;34m()\u001b[0m\n\u001b[1;32m     <a href='vscode-notebook-cell://attached-container%2B7b22636f6e7461696e65724e616d65223a222f636c657665725f736e79646572227d/root/mqttpaper_qos_analysis/packet_analysis_nb.ipynb#ch0000005vscode-remote?line=13'>14</a>\u001b[0m     \u001b[39mpass\u001b[39;00m\n\u001b[1;32m     <a href='vscode-notebook-cell://attached-container%2B7b22636f6e7461696e65724e616d65223a222f636c657665725f736e79646572227d/root/mqttpaper_qos_analysis/packet_analysis_nb.ipynb#ch0000005vscode-remote?line=14'>15</a>\u001b[0m \u001b[39mexcept\u001b[39;00m \u001b[39mException\u001b[39;00m \u001b[39mas\u001b[39;00m e:\n\u001b[0;32m---> <a href='vscode-notebook-cell://attached-container%2B7b22636f6e7461696e65724e616d65223a222f636c657665725f736e79646572227d/root/mqttpaper_qos_analysis/packet_analysis_nb.ipynb#ch0000005vscode-remote?line=15'>16</a>\u001b[0m     \u001b[39mraise\u001b[39;00m e\n",
      "\u001b[1;32m/root/mqttpaper_qos_analysis/packet_analysis_nb.ipynb Cell 5'\u001b[0m in \u001b[0;36m<cell line: 7>\u001b[0;34m()\u001b[0m\n\u001b[1;32m     <a href='vscode-notebook-cell://attached-container%2B7b22636f6e7461696e65724e616d65223a222f636c657665725f736e79646572227d/root/mqttpaper_qos_analysis/packet_analysis_nb.ipynb#ch0000005vscode-remote?line=9'>10</a>\u001b[0m \u001b[39mfor\u001b[39;00m packet_size \u001b[39min\u001b[39;00m packet_sizes:\n\u001b[1;32m     <a href='vscode-notebook-cell://attached-container%2B7b22636f6e7461696e65724e616d65223a222f636c657665725f736e79646572227d/root/mqttpaper_qos_analysis/packet_analysis_nb.ipynb#ch0000005vscode-remote?line=10'>11</a>\u001b[0m     \u001b[39mtry\u001b[39;00m:\n\u001b[0;32m---> <a href='vscode-notebook-cell://attached-container%2B7b22636f6e7461696e65724e616d65223a222f636c657665725f736e79646572227d/root/mqttpaper_qos_analysis/packet_analysis_nb.ipynb#ch0000005vscode-remote?line=11'>12</a>\u001b[0m         mqttpacket_raw_info \u001b[39m=\u001b[39m mqttpacket_raw_info\u001b[39m.\u001b[39mappend(process_packet(frequency, number_of_clients, qos_level, packet_size), ignore_index\u001b[39m=\u001b[39m\u001b[39mTrue\u001b[39;00m)\n\u001b[1;32m     <a href='vscode-notebook-cell://attached-container%2B7b22636f6e7461696e65724e616d65223a222f636c657665725f736e79646572227d/root/mqttpaper_qos_analysis/packet_analysis_nb.ipynb#ch0000005vscode-remote?line=12'>13</a>\u001b[0m     \u001b[39mexcept\u001b[39;00m \u001b[39mFileNotFoundError\u001b[39;00m \u001b[39mas\u001b[39;00m e:\n\u001b[1;32m     <a href='vscode-notebook-cell://attached-container%2B7b22636f6e7461696e65724e616d65223a222f636c657665725f736e79646572227d/root/mqttpaper_qos_analysis/packet_analysis_nb.ipynb#ch0000005vscode-remote?line=13'>14</a>\u001b[0m         \u001b[39mpass\u001b[39;00m\n",
      "\u001b[1;32m/root/mqttpaper_qos_analysis/packet_analysis_nb.ipynb Cell 4'\u001b[0m in \u001b[0;36mprocess_packet\u001b[0;34m(frequency, number_of_clients, qos_level, packet_size)\u001b[0m\n\u001b[1;32m     <a href='vscode-notebook-cell://attached-container%2B7b22636f6e7461696e65724e616d65223a222f636c657665725f736e79646572227d/root/mqttpaper_qos_analysis/packet_analysis_nb.ipynb#ch0000003vscode-remote?line=15'>16</a>\u001b[0m \u001b[39m# needs json to capture segment data\u001b[39;00m\n\u001b[1;32m     <a href='vscode-notebook-cell://attached-container%2B7b22636f6e7461696e65724e616d65223a222f636c657665725f736e79646572227d/root/mqttpaper_qos_analysis/packet_analysis_nb.ipynb#ch0000003vscode-remote?line=16'>17</a>\u001b[0m mqtt_capture \u001b[39m=\u001b[39m createFileCapture(capture_filename, TSHARK_DF_MQTTPUBLISH \u001b[39m+\u001b[39m TSHARK_DF_AND \u001b[39m+\u001b[39m TSHARK_DF_MQTT_IGNORE_PINGS)\n\u001b[0;32m---> <a href='vscode-notebook-cell://attached-container%2B7b22636f6e7461696e65724e616d65223a222f636c657665725f736e79646572227d/root/mqttpaper_qos_analysis/packet_analysis_nb.ipynb#ch0000003vscode-remote?line=17'>18</a>\u001b[0m \u001b[39mfor\u001b[39;00m packet \u001b[39min\u001b[39;00m mqtt_capture:\n\u001b[1;32m     <a href='vscode-notebook-cell://attached-container%2B7b22636f6e7461696e65724e616d65223a222f636c657665725f736e79646572227d/root/mqttpaper_qos_analysis/packet_analysis_nb.ipynb#ch0000003vscode-remote?line=18'>19</a>\u001b[0m     \u001b[39m# get packet data\u001b[39;00m\n\u001b[1;32m     <a href='vscode-notebook-cell://attached-container%2B7b22636f6e7461696e65724e616d65223a222f636c657665725f736e79646572227d/root/mqttpaper_qos_analysis/packet_analysis_nb.ipynb#ch0000003vscode-remote?line=19'>20</a>\u001b[0m     packet_data \u001b[39m=\u001b[39m {\n\u001b[1;32m     <a href='vscode-notebook-cell://attached-container%2B7b22636f6e7461696e65724e616d65223a222f636c657665725f736e79646572227d/root/mqttpaper_qos_analysis/packet_analysis_nb.ipynb#ch0000003vscode-remote?line=20'>21</a>\u001b[0m         IP_ADDR_HEADER: packet\u001b[39m.\u001b[39mip\u001b[39m.\u001b[39maddr,\n\u001b[1;32m     <a href='vscode-notebook-cell://attached-container%2B7b22636f6e7461696e65724e616d65223a222f636c657665725f736e79646572227d/root/mqttpaper_qos_analysis/packet_analysis_nb.ipynb#ch0000003vscode-remote?line=21'>22</a>\u001b[0m         FRAME_TIMESTAMP_HEADER: \u001b[39mfloat\u001b[39m(packet\u001b[39m.\u001b[39mframe_info\u001b[39m.\u001b[39mtime_epoch),\n\u001b[0;32m   (...)\u001b[0m\n\u001b[1;32m     <a href='vscode-notebook-cell://attached-container%2B7b22636f6e7461696e65724e616d65223a222f636c657665725f736e79646572227d/root/mqttpaper_qos_analysis/packet_analysis_nb.ipynb#ch0000003vscode-remote?line=25'>26</a>\u001b[0m         TCP_FIRST_SEGMENT_TIMESTAMP_HEADER: \u001b[39mfloat\u001b[39m(packet\u001b[39m.\u001b[39mframe_info\u001b[39m.\u001b[39mtime_epoch) \u001b[39mif\u001b[39;00m \u001b[39mnot\u001b[39;00m packet\u001b[39m.\u001b[39m\u001b[39m__contains__\u001b[39m(TCP_SEGMENTS_HEADER) \u001b[39melse\u001b[39;00m \u001b[39mNone\u001b[39;00m\n\u001b[1;32m     <a href='vscode-notebook-cell://attached-container%2B7b22636f6e7461696e65724e616d65223a222f636c657665725f736e79646572227d/root/mqttpaper_qos_analysis/packet_analysis_nb.ipynb#ch0000003vscode-remote?line=26'>27</a>\u001b[0m     }\n\u001b[1;32m     <a href='vscode-notebook-cell://attached-container%2B7b22636f6e7461696e65724e616d65223a222f636c657665725f736e79646572227d/root/mqttpaper_qos_analysis/packet_analysis_nb.ipynb#ch0000003vscode-remote?line=27'>28</a>\u001b[0m     mqttpub_packet_list[packet_data[TCP_FIRST_SEGMENT_HEADER]] \u001b[39m=\u001b[39m packet_data \n",
      "File \u001b[0;32m/opt/conda/lib/python3.8/site-packages/pyshark/capture/capture.py:256\u001b[0m, in \u001b[0;36mCapture._packets_from_tshark_sync\u001b[0;34m(self, packet_count, existing_process)\u001b[0m\n\u001b[1;32m    <a href='file:///opt/conda/lib/python3.8/site-packages/pyshark/capture/capture.py?line=253'>254</a>\u001b[0m \u001b[39mfinally\u001b[39;00m:\n\u001b[1;32m    <a href='file:///opt/conda/lib/python3.8/site-packages/pyshark/capture/capture.py?line=254'>255</a>\u001b[0m     \u001b[39mif\u001b[39;00m tshark_process \u001b[39min\u001b[39;00m \u001b[39mself\u001b[39m\u001b[39m.\u001b[39m_running_processes:\n\u001b[0;32m--> <a href='file:///opt/conda/lib/python3.8/site-packages/pyshark/capture/capture.py?line=255'>256</a>\u001b[0m         \u001b[39mself\u001b[39;49m\u001b[39m.\u001b[39;49meventloop\u001b[39m.\u001b[39;49mrun_until_complete(\u001b[39mself\u001b[39;49m\u001b[39m.\u001b[39;49m_cleanup_subprocess(tshark_process))\n",
      "File \u001b[0;32m/opt/conda/lib/python3.8/site-packages/nest_asyncio.py:89\u001b[0m, in \u001b[0;36m_patch_loop.<locals>.run_until_complete\u001b[0;34m(self, future)\u001b[0m\n\u001b[1;32m     <a href='file:///opt/conda/lib/python3.8/site-packages/nest_asyncio.py?line=85'>86</a>\u001b[0m \u001b[39mif\u001b[39;00m \u001b[39mnot\u001b[39;00m f\u001b[39m.\u001b[39mdone():\n\u001b[1;32m     <a href='file:///opt/conda/lib/python3.8/site-packages/nest_asyncio.py?line=86'>87</a>\u001b[0m     \u001b[39mraise\u001b[39;00m \u001b[39mRuntimeError\u001b[39;00m(\n\u001b[1;32m     <a href='file:///opt/conda/lib/python3.8/site-packages/nest_asyncio.py?line=87'>88</a>\u001b[0m         \u001b[39m'\u001b[39m\u001b[39mEvent loop stopped before Future completed.\u001b[39m\u001b[39m'\u001b[39m)\n\u001b[0;32m---> <a href='file:///opt/conda/lib/python3.8/site-packages/nest_asyncio.py?line=88'>89</a>\u001b[0m \u001b[39mreturn\u001b[39;00m f\u001b[39m.\u001b[39;49mresult()\n",
      "File \u001b[0;32m/opt/conda/lib/python3.8/asyncio/futures.py:178\u001b[0m, in \u001b[0;36mFuture.result\u001b[0;34m(self)\u001b[0m\n\u001b[1;32m    <a href='file:///opt/conda/lib/python3.8/asyncio/futures.py?line=175'>176</a>\u001b[0m \u001b[39mself\u001b[39m\u001b[39m.\u001b[39m__log_traceback \u001b[39m=\u001b[39m \u001b[39mFalse\u001b[39;00m\n\u001b[1;32m    <a href='file:///opt/conda/lib/python3.8/asyncio/futures.py?line=176'>177</a>\u001b[0m \u001b[39mif\u001b[39;00m \u001b[39mself\u001b[39m\u001b[39m.\u001b[39m_exception \u001b[39mis\u001b[39;00m \u001b[39mnot\u001b[39;00m \u001b[39mNone\u001b[39;00m:\n\u001b[0;32m--> <a href='file:///opt/conda/lib/python3.8/asyncio/futures.py?line=177'>178</a>\u001b[0m     \u001b[39mraise\u001b[39;00m \u001b[39mself\u001b[39m\u001b[39m.\u001b[39m_exception\n\u001b[1;32m    <a href='file:///opt/conda/lib/python3.8/asyncio/futures.py?line=178'>179</a>\u001b[0m \u001b[39mreturn\u001b[39;00m \u001b[39mself\u001b[39m\u001b[39m.\u001b[39m_result\n",
      "File \u001b[0;32m/opt/conda/lib/python3.8/asyncio/tasks.py:280\u001b[0m, in \u001b[0;36mTask.__step\u001b[0;34m(***failed resolving arguments***)\u001b[0m\n\u001b[1;32m    <a href='file:///opt/conda/lib/python3.8/asyncio/tasks.py?line=275'>276</a>\u001b[0m \u001b[39mtry\u001b[39;00m:\n\u001b[1;32m    <a href='file:///opt/conda/lib/python3.8/asyncio/tasks.py?line=276'>277</a>\u001b[0m     \u001b[39mif\u001b[39;00m exc \u001b[39mis\u001b[39;00m \u001b[39mNone\u001b[39;00m:\n\u001b[1;32m    <a href='file:///opt/conda/lib/python3.8/asyncio/tasks.py?line=277'>278</a>\u001b[0m         \u001b[39m# We use the `send` method directly, because coroutines\u001b[39;00m\n\u001b[1;32m    <a href='file:///opt/conda/lib/python3.8/asyncio/tasks.py?line=278'>279</a>\u001b[0m         \u001b[39m# don't have `__iter__` and `__next__` methods.\u001b[39;00m\n\u001b[0;32m--> <a href='file:///opt/conda/lib/python3.8/asyncio/tasks.py?line=279'>280</a>\u001b[0m         result \u001b[39m=\u001b[39m coro\u001b[39m.\u001b[39;49msend(\u001b[39mNone\u001b[39;49;00m)\n\u001b[1;32m    <a href='file:///opt/conda/lib/python3.8/asyncio/tasks.py?line=280'>281</a>\u001b[0m     \u001b[39melse\u001b[39;00m:\n\u001b[1;32m    <a href='file:///opt/conda/lib/python3.8/asyncio/tasks.py?line=281'>282</a>\u001b[0m         result \u001b[39m=\u001b[39m coro\u001b[39m.\u001b[39mthrow(exc)\n",
      "File \u001b[0;32m/opt/conda/lib/python3.8/site-packages/pyshark/capture/capture.py:431\u001b[0m, in \u001b[0;36mCapture._cleanup_subprocess\u001b[0;34m(self, process)\u001b[0m\n\u001b[1;32m    <a href='file:///opt/conda/lib/python3.8/site-packages/pyshark/capture/capture.py?line=428'>429</a>\u001b[0m \u001b[39melif\u001b[39;00m process\u001b[39m.\u001b[39mreturncode \u001b[39m>\u001b[39m \u001b[39m0\u001b[39m:\n\u001b[1;32m    <a href='file:///opt/conda/lib/python3.8/site-packages/pyshark/capture/capture.py?line=429'>430</a>\u001b[0m     \u001b[39mif\u001b[39;00m process\u001b[39m.\u001b[39mreturncode \u001b[39m!=\u001b[39m \u001b[39m1\u001b[39m \u001b[39mor\u001b[39;00m \u001b[39mself\u001b[39m\u001b[39m.\u001b[39m_eof_reached:\n\u001b[0;32m--> <a href='file:///opt/conda/lib/python3.8/site-packages/pyshark/capture/capture.py?line=430'>431</a>\u001b[0m         \u001b[39mraise\u001b[39;00m TSharkCrashException(\u001b[39m\"\u001b[39m\u001b[39mTShark seems to have crashed (retcode: \u001b[39m\u001b[39m%d\u001b[39;00m\u001b[39m). \u001b[39m\u001b[39m\"\u001b[39m\n\u001b[1;32m    <a href='file:///opt/conda/lib/python3.8/site-packages/pyshark/capture/capture.py?line=431'>432</a>\u001b[0m                                    \u001b[39m\"\u001b[39m\u001b[39mTry rerunning in debug mode [ capture_obj.set_debug() ] or try updating tshark.\u001b[39m\u001b[39m\"\u001b[39m\n\u001b[1;32m    <a href='file:///opt/conda/lib/python3.8/site-packages/pyshark/capture/capture.py?line=432'>433</a>\u001b[0m                                    \u001b[39m%\u001b[39m process\u001b[39m.\u001b[39mreturncode)\n",
      "\u001b[0;31mTSharkCrashException\u001b[0m: TShark seems to have crashed (retcode: 2). Try rerunning in debug mode [ capture_obj.set_debug() ] or try updating tshark."
     ]
    }
   ],
   "source": [
    "# analyzed info\n",
    "mqttpacket_info = pd.DataFrame(None, columns=[NUM_CLIENTS_HEADER, QOS_LEVEL_HEADER, FREQUENCY_HEADER, PACKET_SIZE_HEADER, RTT_MEAN_HEADER, RTT_STD_HEADER, PACKET_LOSS_HEADER])\n",
    "\n",
    "mqttpacket_raw_info = pd.DataFrame(None, columns=[FREQUENCY_HEADER, MQTT_MSGLEN_HEADER, PACKET_SIZE_HEADER, NUM_CLIENTS_HEADER, QOS_LEVEL_HEADER, RTT_HEADER])\n",
    "\n",
    "# check for any combination of clients (cuz ppl don't know how to do experiments lol)\n",
    "for frequency in frequency_list:\n",
    "    for number_of_clients in range(1, len(client_list)+1):\n",
    "        for qos_level in qos_levels:\n",
    "            for packet_size in packet_sizes:\n",
    "                try:\n",
    "                    mqttpacket_raw_info = mqttpacket_raw_info.append(process_packet(frequency, number_of_clients, qos_level, packet_size), ignore_index=True)\n",
    "                except FileNotFoundError as e:\n",
    "                    pass\n",
    "                except Exception as e:\n",
    "                    raise e\n",
    "           "
   ]
  },
  {
   "cell_type": "code",
   "execution_count": 58,
   "metadata": {},
   "outputs": [
    {
     "name": "stdout",
     "output_type": "stream",
     "text": [
      "     FREQUENCY mqtt.msglen PACKET_SIZE NUM_CLIENTS QOS_LEVEL       RTT\n",
      "0            1        1270        1250           1         0  0.000191\n",
      "1            1        1270        1250           1         0  0.000129\n",
      "2            1        1270        1250           1         0  0.000145\n",
      "3            1        1270        1250           1         0  0.000177\n",
      "4            1        1270        1250           1         0  0.000166\n",
      "...        ...         ...         ...         ...       ...       ...\n",
      "8998         1        1270        1250           4         0  0.000148\n",
      "8999         1        1270        1250           4         0  0.000129\n",
      "9000         1        1270        1250           4         0  0.000167\n",
      "9001         1        1270        1250           4         0  0.000130\n",
      "9002         1        1270        1250           4         0  0.000163\n",
      "\n",
      "[9003 rows x 6 columns]\n"
     ]
    }
   ],
   "source": [
    "print(mqttpacket_raw_info)"
   ]
  },
  {
   "cell_type": "code",
   "execution_count": 64,
   "metadata": {},
   "outputs": [
    {
     "name": "stdout",
     "output_type": "stream",
     "text": [
      "Parsing all MQTT packets...\n",
      "2022-06-06 07:47:44,651 - FileCapture - DEBUG - Creating TShark subprocess with parameters: /usr/bin/tshark -l -n -T json -Y mqtt.msgtype == 3&&!(mqtt.msgtype == 12) -r /logs/f100c4qos0small.pcap --no-duplicate-keys\n",
      "2022-06-06 07:47:44,652 - FileCapture - DEBUG - Executable: /usr/bin/tshark\n",
      "2022-06-06 07:47:44,656 - FileCapture - DEBUG - TShark subprocess created\n"
     ]
    },
    {
     "name": "stderr",
     "output_type": "stream",
     "text": [
      "Running as user \"root\" and group \"root\". This could be dangerous.\n"
     ]
    },
    {
     "name": "stdout",
     "output_type": "stream",
     "text": [
      "2022-06-06 07:47:45,634 - FileCapture - DEBUG - EOF reached (sync)\n"
     ]
    },
    {
     "name": "stderr",
     "output_type": "stream",
     "text": [
      "tshark: The file \"/logs/f100c4qos0small.pcap\" appears to be damaged or corrupt.\n",
      "(pcapng_read_unknown_block: total block length 0 of an unknown block type is less than the minimum block size 12)\n"
     ]
    },
    {
     "ename": "TSharkCrashException",
     "evalue": "TShark seems to have crashed (retcode: 2). Try rerunning in debug mode [ capture_obj.set_debug() ] or try updating tshark.",
     "output_type": "error",
     "traceback": [
      "\u001b[0;31m---------------------------------------------------------------------------\u001b[0m",
      "\u001b[0;31mTSharkCrashException\u001b[0m                      Traceback (most recent call last)",
      "\u001b[1;32m/root/mqttpaper_qos_analysis/packet_analysis_nb.ipynb Cell 7'\u001b[0m in \u001b[0;36m<cell line: 1>\u001b[0;34m()\u001b[0m\n\u001b[0;32m----> <a href='vscode-notebook-cell://attached-container%2B7b22636f6e7461696e65724e616d65223a222f636c657665725f736e79646572227d/root/mqttpaper_qos_analysis/packet_analysis_nb.ipynb#ch0000008vscode-remote?line=0'>1</a>\u001b[0m process_packet(\u001b[39m100\u001b[39;49m, \u001b[39m4\u001b[39;49m, \u001b[39m0\u001b[39;49m, \u001b[39m\"\u001b[39;49m\u001b[39msmall\u001b[39;49m\u001b[39m\"\u001b[39;49m)\n",
      "\u001b[1;32m/root/mqttpaper_qos_analysis/packet_analysis_nb.ipynb Cell 4'\u001b[0m in \u001b[0;36mprocess_packet\u001b[0;34m(frequency, number_of_clients, qos_level, packet_size)\u001b[0m\n\u001b[1;32m     <a href='vscode-notebook-cell://attached-container%2B7b22636f6e7461696e65724e616d65223a222f636c657665725f736e79646572227d/root/mqttpaper_qos_analysis/packet_analysis_nb.ipynb#ch0000003vscode-remote?line=27'>28</a>\u001b[0m     mqttpub_packet_list[packet_data[TCP_FIRST_SEGMENT_HEADER]] \u001b[39m=\u001b[39m packet_data \n\u001b[1;32m     <a href='vscode-notebook-cell://attached-container%2B7b22636f6e7461696e65724e616d65223a222f636c657665725f736e79646572227d/root/mqttpaper_qos_analysis/packet_analysis_nb.ipynb#ch0000003vscode-remote?line=29'>30</a>\u001b[0m \u001b[39m# close subprocess\u001b[39;00m\n\u001b[0;32m---> <a href='vscode-notebook-cell://attached-container%2B7b22636f6e7461696e65724e616d65223a222f636c657665725f736e79646572227d/root/mqttpaper_qos_analysis/packet_analysis_nb.ipynb#ch0000003vscode-remote?line=30'>31</a>\u001b[0m mqtt_capture\u001b[39m.\u001b[39;49mclose()\n\u001b[1;32m     <a href='vscode-notebook-cell://attached-container%2B7b22636f6e7461696e65724e616d65223a222f636c657665725f736e79646572227d/root/mqttpaper_qos_analysis/packet_analysis_nb.ipynb#ch0000003vscode-remote?line=32'>33</a>\u001b[0m \u001b[39m# create a queue so we can ACK the packets in order (this assumes that the ACKs are not out of order)\u001b[39;00m\n\u001b[1;32m     <a href='vscode-notebook-cell://attached-container%2B7b22636f6e7461696e65724e616d65223a222f636c657665725f736e79646572227d/root/mqttpaper_qos_analysis/packet_analysis_nb.ipynb#ch0000003vscode-remote?line=33'>34</a>\u001b[0m \u001b[39m# queues are created per client to validate the ACKs properly\u001b[39;00m\n\u001b[1;32m     <a href='vscode-notebook-cell://attached-container%2B7b22636f6e7461696e65724e616d65223a222f636c657665725f736e79646572227d/root/mqttpaper_qos_analysis/packet_analysis_nb.ipynb#ch0000003vscode-remote?line=34'>35</a>\u001b[0m mqttpub_packet_deque \u001b[39m=\u001b[39m {client: deque(\u001b[39msorted\u001b[39m(\u001b[39mfilter\u001b[39m(\u001b[39mlambda\u001b[39;00m packet: client \u001b[39m==\u001b[39m getClientIP(packet[IP_ADDR_HEADER]), mqttpub_packet_list\u001b[39m.\u001b[39mvalues()), \n\u001b[1;32m     <a href='vscode-notebook-cell://attached-container%2B7b22636f6e7461696e65724e616d65223a222f636c657665725f736e79646572227d/root/mqttpaper_qos_analysis/packet_analysis_nb.ipynb#ch0000003vscode-remote?line=35'>36</a>\u001b[0m     key\u001b[39m=\u001b[39m(\u001b[39mlambda\u001b[39;00m packet: \u001b[39m-\u001b[39mpacket[FRAME_NUMBER_HEADER]))) \u001b[39mfor\u001b[39;00m client \u001b[39min\u001b[39;00m client_list}\n",
      "File \u001b[0;32m/opt/conda/lib/python3.8/site-packages/pyshark/capture/capture.py:436\u001b[0m, in \u001b[0;36mCapture.close\u001b[0;34m(self)\u001b[0m\n\u001b[1;32m    <a href='file:///opt/conda/lib/python3.8/site-packages/pyshark/capture/capture.py?line=434'>435</a>\u001b[0m \u001b[39mdef\u001b[39;00m \u001b[39mclose\u001b[39m(\u001b[39mself\u001b[39m):\n\u001b[0;32m--> <a href='file:///opt/conda/lib/python3.8/site-packages/pyshark/capture/capture.py?line=435'>436</a>\u001b[0m     \u001b[39mself\u001b[39;49m\u001b[39m.\u001b[39;49meventloop\u001b[39m.\u001b[39;49mrun_until_complete(\u001b[39mself\u001b[39;49m\u001b[39m.\u001b[39;49mclose_async())\n",
      "File \u001b[0;32m/opt/conda/lib/python3.8/site-packages/nest_asyncio.py:89\u001b[0m, in \u001b[0;36m_patch_loop.<locals>.run_until_complete\u001b[0;34m(self, future)\u001b[0m\n\u001b[1;32m     <a href='file:///opt/conda/lib/python3.8/site-packages/nest_asyncio.py?line=85'>86</a>\u001b[0m \u001b[39mif\u001b[39;00m \u001b[39mnot\u001b[39;00m f\u001b[39m.\u001b[39mdone():\n\u001b[1;32m     <a href='file:///opt/conda/lib/python3.8/site-packages/nest_asyncio.py?line=86'>87</a>\u001b[0m     \u001b[39mraise\u001b[39;00m \u001b[39mRuntimeError\u001b[39;00m(\n\u001b[1;32m     <a href='file:///opt/conda/lib/python3.8/site-packages/nest_asyncio.py?line=87'>88</a>\u001b[0m         \u001b[39m'\u001b[39m\u001b[39mEvent loop stopped before Future completed.\u001b[39m\u001b[39m'\u001b[39m)\n\u001b[0;32m---> <a href='file:///opt/conda/lib/python3.8/site-packages/nest_asyncio.py?line=88'>89</a>\u001b[0m \u001b[39mreturn\u001b[39;00m f\u001b[39m.\u001b[39;49mresult()\n",
      "File \u001b[0;32m/opt/conda/lib/python3.8/asyncio/futures.py:178\u001b[0m, in \u001b[0;36mFuture.result\u001b[0;34m(self)\u001b[0m\n\u001b[1;32m    <a href='file:///opt/conda/lib/python3.8/asyncio/futures.py?line=175'>176</a>\u001b[0m \u001b[39mself\u001b[39m\u001b[39m.\u001b[39m__log_traceback \u001b[39m=\u001b[39m \u001b[39mFalse\u001b[39;00m\n\u001b[1;32m    <a href='file:///opt/conda/lib/python3.8/asyncio/futures.py?line=176'>177</a>\u001b[0m \u001b[39mif\u001b[39;00m \u001b[39mself\u001b[39m\u001b[39m.\u001b[39m_exception \u001b[39mis\u001b[39;00m \u001b[39mnot\u001b[39;00m \u001b[39mNone\u001b[39;00m:\n\u001b[0;32m--> <a href='file:///opt/conda/lib/python3.8/asyncio/futures.py?line=177'>178</a>\u001b[0m     \u001b[39mraise\u001b[39;00m \u001b[39mself\u001b[39m\u001b[39m.\u001b[39m_exception\n\u001b[1;32m    <a href='file:///opt/conda/lib/python3.8/asyncio/futures.py?line=178'>179</a>\u001b[0m \u001b[39mreturn\u001b[39;00m \u001b[39mself\u001b[39m\u001b[39m.\u001b[39m_result\n",
      "File \u001b[0;32m/opt/conda/lib/python3.8/asyncio/tasks.py:280\u001b[0m, in \u001b[0;36mTask.__step\u001b[0;34m(***failed resolving arguments***)\u001b[0m\n\u001b[1;32m    <a href='file:///opt/conda/lib/python3.8/asyncio/tasks.py?line=275'>276</a>\u001b[0m \u001b[39mtry\u001b[39;00m:\n\u001b[1;32m    <a href='file:///opt/conda/lib/python3.8/asyncio/tasks.py?line=276'>277</a>\u001b[0m     \u001b[39mif\u001b[39;00m exc \u001b[39mis\u001b[39;00m \u001b[39mNone\u001b[39;00m:\n\u001b[1;32m    <a href='file:///opt/conda/lib/python3.8/asyncio/tasks.py?line=277'>278</a>\u001b[0m         \u001b[39m# We use the `send` method directly, because coroutines\u001b[39;00m\n\u001b[1;32m    <a href='file:///opt/conda/lib/python3.8/asyncio/tasks.py?line=278'>279</a>\u001b[0m         \u001b[39m# don't have `__iter__` and `__next__` methods.\u001b[39;00m\n\u001b[0;32m--> <a href='file:///opt/conda/lib/python3.8/asyncio/tasks.py?line=279'>280</a>\u001b[0m         result \u001b[39m=\u001b[39m coro\u001b[39m.\u001b[39;49msend(\u001b[39mNone\u001b[39;49;00m)\n\u001b[1;32m    <a href='file:///opt/conda/lib/python3.8/asyncio/tasks.py?line=280'>281</a>\u001b[0m     \u001b[39melse\u001b[39;00m:\n\u001b[1;32m    <a href='file:///opt/conda/lib/python3.8/asyncio/tasks.py?line=281'>282</a>\u001b[0m         result \u001b[39m=\u001b[39m coro\u001b[39m.\u001b[39mthrow(exc)\n",
      "File \u001b[0;32m/opt/conda/lib/python3.8/site-packages/pyshark/capture/capture.py:440\u001b[0m, in \u001b[0;36mCapture.close_async\u001b[0;34m(self)\u001b[0m\n\u001b[1;32m    <a href='file:///opt/conda/lib/python3.8/site-packages/pyshark/capture/capture.py?line=437'>438</a>\u001b[0m \u001b[39masync\u001b[39;00m \u001b[39mdef\u001b[39;00m \u001b[39mclose_async\u001b[39m(\u001b[39mself\u001b[39m):\n\u001b[1;32m    <a href='file:///opt/conda/lib/python3.8/site-packages/pyshark/capture/capture.py?line=438'>439</a>\u001b[0m     \u001b[39mfor\u001b[39;00m process \u001b[39min\u001b[39;00m \u001b[39mself\u001b[39m\u001b[39m.\u001b[39m_running_processes\u001b[39m.\u001b[39mcopy():\n\u001b[0;32m--> <a href='file:///opt/conda/lib/python3.8/site-packages/pyshark/capture/capture.py?line=439'>440</a>\u001b[0m         \u001b[39mawait\u001b[39;00m \u001b[39mself\u001b[39m\u001b[39m.\u001b[39m_cleanup_subprocess(process)\n\u001b[1;32m    <a href='file:///opt/conda/lib/python3.8/site-packages/pyshark/capture/capture.py?line=440'>441</a>\u001b[0m     \u001b[39mself\u001b[39m\u001b[39m.\u001b[39m_running_processes\u001b[39m.\u001b[39mclear()\n",
      "File \u001b[0;32m/opt/conda/lib/python3.8/site-packages/pyshark/capture/capture.py:431\u001b[0m, in \u001b[0;36mCapture._cleanup_subprocess\u001b[0;34m(self, process)\u001b[0m\n\u001b[1;32m    <a href='file:///opt/conda/lib/python3.8/site-packages/pyshark/capture/capture.py?line=428'>429</a>\u001b[0m \u001b[39melif\u001b[39;00m process\u001b[39m.\u001b[39mreturncode \u001b[39m>\u001b[39m \u001b[39m0\u001b[39m:\n\u001b[1;32m    <a href='file:///opt/conda/lib/python3.8/site-packages/pyshark/capture/capture.py?line=429'>430</a>\u001b[0m     \u001b[39mif\u001b[39;00m process\u001b[39m.\u001b[39mreturncode \u001b[39m!=\u001b[39m \u001b[39m1\u001b[39m \u001b[39mor\u001b[39;00m \u001b[39mself\u001b[39m\u001b[39m.\u001b[39m_eof_reached:\n\u001b[0;32m--> <a href='file:///opt/conda/lib/python3.8/site-packages/pyshark/capture/capture.py?line=430'>431</a>\u001b[0m         \u001b[39mraise\u001b[39;00m TSharkCrashException(\u001b[39m\"\u001b[39m\u001b[39mTShark seems to have crashed (retcode: \u001b[39m\u001b[39m%d\u001b[39;00m\u001b[39m). \u001b[39m\u001b[39m\"\u001b[39m\n\u001b[1;32m    <a href='file:///opt/conda/lib/python3.8/site-packages/pyshark/capture/capture.py?line=431'>432</a>\u001b[0m                                    \u001b[39m\"\u001b[39m\u001b[39mTry rerunning in debug mode [ capture_obj.set_debug() ] or try updating tshark.\u001b[39m\u001b[39m\"\u001b[39m\n\u001b[1;32m    <a href='file:///opt/conda/lib/python3.8/site-packages/pyshark/capture/capture.py?line=432'>433</a>\u001b[0m                                    \u001b[39m%\u001b[39m process\u001b[39m.\u001b[39mreturncode)\n",
      "\u001b[0;31mTSharkCrashException\u001b[0m: TShark seems to have crashed (retcode: 2). Try rerunning in debug mode [ capture_obj.set_debug() ] or try updating tshark."
     ]
    }
   ],
   "source": [
    "process_packet(100, 4, 0, \"small\")"
   ]
  }
 ],
 "metadata": {
  "interpreter": {
   "hash": "d4d1e4263499bec80672ea0156c357c1ee493ec2b1c70f0acce89fc37c4a6abe"
  },
  "kernelspec": {
   "display_name": "Python 3.8.13 ('base')",
   "language": "python",
   "name": "python3"
  },
  "language_info": {
   "codemirror_mode": {
    "name": "ipython",
    "version": 3
   },
   "file_extension": ".py",
   "mimetype": "text/x-python",
   "name": "python",
   "nbconvert_exporter": "python",
   "pygments_lexer": "ipython3",
   "version": "3.8.13"
  },
  "orig_nbformat": 4
 },
 "nbformat": 4,
 "nbformat_minor": 2
}
